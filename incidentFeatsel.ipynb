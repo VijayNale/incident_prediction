{
  "nbformat": 4,
  "nbformat_minor": 0,
  "metadata": {
    "colab": {
      "name": "incidentFeatsel.ipynb",
      "provenance": [],
      "collapsed_sections": []
    },
    "kernelspec": {
      "name": "python3",
      "display_name": "Python 3"
    },
    "accelerator": "GPU"
  },
  "cells": [
    {
      "cell_type": "code",
      "metadata": {
        "id": "OREFi1udfeVH",
        "colab_type": "code",
        "outputId": "470cd0e0-4513-4261-8695-bf07587f31b0",
        "colab": {
          "base_uri": "https://localhost:8080/",
          "height": 62
        }
      },
      "source": [
        "import pandas as pd\n",
        "import tensorflow as  tf\n",
        "import numpy as np\n",
        "import matplotlib.pyplot as plt\n",
        "import seaborn as sns\n",
        "from google.colab import files"
      ],
      "execution_count": 0,
      "outputs": [
        {
          "output_type": "display_data",
          "data": {
            "text/html": [
              "<p style=\"color: red;\">\n",
              "The default version of TensorFlow in Colab will soon switch to TensorFlow 2.x.<br>\n",
              "We recommend you <a href=\"https://www.tensorflow.org/guide/migrate\" target=\"_blank\">upgrade</a> now \n",
              "or ensure your notebook will continue to use TensorFlow 1.x via the <code>%tensorflow_version 1.x</code> magic:\n",
              "<a href=\"https://colab.research.google.com/notebooks/tensorflow_version.ipynb\" target=\"_blank\">more info</a>.</p>\n"
            ],
            "text/plain": [
              "<IPython.core.display.HTML object>"
            ]
          },
          "metadata": {
            "tags": []
          }
        }
      ]
    },
    {
      "cell_type": "code",
      "metadata": {
        "id": "W9Gkrvpoffki",
        "colab_type": "code",
        "outputId": "aae0e6e0-22e2-4e97-f67c-6846b165d203",
        "colab": {
          "base_uri": "https://localhost:8080/",
          "height": 34
        }
      },
      "source": [
        "import tensorflow as tf\n",
        "device_name = tf.test.gpu_device_name()\n",
        "if device_name != '/device:GPU:0':\n",
        "  raise SystemError('GPU device not found')\n",
        "print('Found GPU at: {}'.format(device_name))"
      ],
      "execution_count": 0,
      "outputs": [
        {
          "output_type": "stream",
          "text": [
            "Found GPU at: /device:GPU:0\n"
          ],
          "name": "stdout"
        }
      ]
    },
    {
      "cell_type": "code",
      "metadata": {
        "id": "LzUDM-B7figH",
        "colab_type": "code",
        "outputId": "46463a95-1390-47b4-dfa5-5c7b5d1155be",
        "colab": {
          "base_uri": "https://localhost:8080/",
          "height": 121
        }
      },
      "source": [
        "from google.colab import drive\n",
        "drive.mount('/content/drive')"
      ],
      "execution_count": 0,
      "outputs": [
        {
          "output_type": "stream",
          "text": [
            "Go to this URL in a browser: https://accounts.google.com/o/oauth2/auth?client_id=947318989803-6bn6qk8qdgf4n4g3pfee6491hc0brc4i.apps.googleusercontent.com&redirect_uri=urn%3aietf%3awg%3aoauth%3a2.0%3aoob&response_type=code&scope=email%20https%3a%2f%2fwww.googleapis.com%2fauth%2fdocs.test%20https%3a%2f%2fwww.googleapis.com%2fauth%2fdrive%20https%3a%2f%2fwww.googleapis.com%2fauth%2fdrive.photos.readonly%20https%3a%2f%2fwww.googleapis.com%2fauth%2fpeopleapi.readonly\n",
            "\n",
            "Enter your authorization code:\n",
            "··········\n",
            "Mounted at /content/drive\n"
          ],
          "name": "stdout"
        }
      ]
    },
    {
      "cell_type": "code",
      "metadata": {
        "id": "7SeS28dKfq3T",
        "colab_type": "code",
        "colab": {}
      },
      "source": [
        "train = pd.read_csv(\"/content/drive/My Drive/Incident/train.csv\")\n",
        "test = pd.read_csv(\"/content/drive/My Drive/Incident/test.csv\")"
      ],
      "execution_count": 0,
      "outputs": []
    },
    {
      "cell_type": "code",
      "metadata": {
        "id": "_CWcAhTrrpRq",
        "colab_type": "code",
        "colab": {}
      },
      "source": [
        "#These columns has one is index and other two most missing values , so droped it\n",
        "train = train.drop(['Unnamed: 0','problem_ID','change_request'], axis=1)\n",
        "test = test.drop(['S.No','problem_ID','change_request'], axis=1)"
      ],
      "execution_count": 0,
      "outputs": []
    },
    {
      "cell_type": "code",
      "metadata": {
        "id": "FiX6c6bWf0Xq",
        "colab_type": "code",
        "outputId": "c378ed3f-e948-41ee-e19a-87c7a42273b3",
        "colab": {
          "base_uri": "https://localhost:8080/",
          "height": 70
        }
      },
      "source": [
        "#do constant value imputation(0) all varibles\n",
        "for col in train.columns:\n",
        "    train.loc[train[col] == '?', col] = '0'"
      ],
      "execution_count": 0,
      "outputs": [
        {
          "output_type": "stream",
          "text": [
            "/usr/local/lib/python3.6/dist-packages/pandas/core/ops/__init__.py:1115: FutureWarning: elementwise comparison failed; returning scalar instead, but in the future will perform elementwise comparison\n",
            "  result = method(y)\n"
          ],
          "name": "stderr"
        }
      ]
    },
    {
      "cell_type": "code",
      "metadata": {
        "id": "BJOP6s_qv6Nh",
        "colab_type": "code",
        "outputId": "baf24563-f558-473e-a90d-4f89b55fec01",
        "colab": {
          "base_uri": "https://localhost:8080/",
          "height": 70
        }
      },
      "source": [
        "for col in train.columns:\n",
        "    train.loc[train[col] == '-100', col] = '0'   #-100 present in Id_caller\n",
        "for col in test.columns:\n",
        "    test.loc[train[col] == '-100', col] = '0'   #-100 present in Id_caller"
      ],
      "execution_count": 0,
      "outputs": [
        {
          "output_type": "stream",
          "text": [
            "/usr/local/lib/python3.6/dist-packages/pandas/core/ops/__init__.py:1115: FutureWarning: elementwise comparison failed; returning scalar instead, but in the future will perform elementwise comparison\n",
            "  result = method(y)\n"
          ],
          "name": "stderr"
        }
      ]
    },
    {
      "cell_type": "code",
      "metadata": {
        "id": "gtCCFuS_f6Bc",
        "colab_type": "code",
        "outputId": "b90aaef0-b11f-4107-8b8d-f0d20f500dd2",
        "colab": {
          "base_uri": "https://localhost:8080/",
          "height": 70
        }
      },
      "source": [
        "#do constant value imputation(0) all varibles\n",
        "for col in test.columns:\n",
        "    test.loc[test[col] == '?', col] = '0'"
      ],
      "execution_count": 0,
      "outputs": [
        {
          "output_type": "stream",
          "text": [
            "/usr/local/lib/python3.6/dist-packages/pandas/core/ops/__init__.py:1115: FutureWarning: elementwise comparison failed; returning scalar instead, but in the future will perform elementwise comparison\n",
            "  result = method(y)\n"
          ],
          "name": "stderr"
        }
      ]
    },
    {
      "cell_type": "code",
      "metadata": {
        "id": "FJN3d3WEgO1V",
        "colab_type": "code",
        "outputId": "99fae6f3-d750-4b84-948d-854f344e32fe",
        "colab": {
          "base_uri": "https://localhost:8080/",
          "height": 299
        }
      },
      "source": [
        "train.head()"
      ],
      "execution_count": 0,
      "outputs": [
        {
          "output_type": "execute_result",
          "data": {
            "text/html": [
              "<div>\n",
              "<style scoped>\n",
              "    .dataframe tbody tr th:only-of-type {\n",
              "        vertical-align: middle;\n",
              "    }\n",
              "\n",
              "    .dataframe tbody tr th {\n",
              "        vertical-align: top;\n",
              "    }\n",
              "\n",
              "    .dataframe thead th {\n",
              "        text-align: right;\n",
              "    }\n",
              "</style>\n",
              "<table border=\"1\" class=\"dataframe\">\n",
              "  <thead>\n",
              "    <tr style=\"text-align: right;\">\n",
              "      <th></th>\n",
              "      <th>ID</th>\n",
              "      <th>ID_status</th>\n",
              "      <th>active</th>\n",
              "      <th>count_reassign</th>\n",
              "      <th>count_opening</th>\n",
              "      <th>count_updated</th>\n",
              "      <th>ID_caller</th>\n",
              "      <th>opened_by</th>\n",
              "      <th>opened_time</th>\n",
              "      <th>Created_by</th>\n",
              "      <th>created_at</th>\n",
              "      <th>updated_by</th>\n",
              "      <th>updated_at</th>\n",
              "      <th>type_contact</th>\n",
              "      <th>location</th>\n",
              "      <th>category_ID</th>\n",
              "      <th>user_symptom</th>\n",
              "      <th>Support_group</th>\n",
              "      <th>support_incharge</th>\n",
              "      <th>Doc_knowledge</th>\n",
              "      <th>confirmation_check</th>\n",
              "      <th>impact</th>\n",
              "      <th>notify</th>\n",
              "    </tr>\n",
              "  </thead>\n",
              "  <tbody>\n",
              "    <tr>\n",
              "      <th>0</th>\n",
              "      <td>INC0000045</td>\n",
              "      <td>New</td>\n",
              "      <td>True</td>\n",
              "      <td>0</td>\n",
              "      <td>0</td>\n",
              "      <td>0</td>\n",
              "      <td>Caller 2403</td>\n",
              "      <td>Opened by  8</td>\n",
              "      <td>29-02-2016 01:16</td>\n",
              "      <td>Created by 6</td>\n",
              "      <td>29-02-2016 01:23</td>\n",
              "      <td>Updated by 21</td>\n",
              "      <td>29-02-2016 01:23</td>\n",
              "      <td>Phone</td>\n",
              "      <td>Location 143</td>\n",
              "      <td>Category 55</td>\n",
              "      <td>Symptom 72</td>\n",
              "      <td>Group 56</td>\n",
              "      <td>0</td>\n",
              "      <td>True</td>\n",
              "      <td>False</td>\n",
              "      <td>2 - Medium</td>\n",
              "      <td>Do Not Notify</td>\n",
              "    </tr>\n",
              "    <tr>\n",
              "      <th>1</th>\n",
              "      <td>INC0000045</td>\n",
              "      <td>Resolved</td>\n",
              "      <td>True</td>\n",
              "      <td>0</td>\n",
              "      <td>0</td>\n",
              "      <td>3</td>\n",
              "      <td>Caller 2403</td>\n",
              "      <td>Opened by  8</td>\n",
              "      <td>29-02-2016 01:16</td>\n",
              "      <td>Created by 6</td>\n",
              "      <td>29-02-2016 01:23</td>\n",
              "      <td>Updated by 804</td>\n",
              "      <td>29-02-2016 11:29</td>\n",
              "      <td>Phone</td>\n",
              "      <td>Location 143</td>\n",
              "      <td>Category 55</td>\n",
              "      <td>Symptom 72</td>\n",
              "      <td>Group 56</td>\n",
              "      <td>0</td>\n",
              "      <td>True</td>\n",
              "      <td>False</td>\n",
              "      <td>2 - Medium</td>\n",
              "      <td>Do Not Notify</td>\n",
              "    </tr>\n",
              "    <tr>\n",
              "      <th>2</th>\n",
              "      <td>INC0000045</td>\n",
              "      <td>Closed</td>\n",
              "      <td>False</td>\n",
              "      <td>0</td>\n",
              "      <td>0</td>\n",
              "      <td>4</td>\n",
              "      <td>Caller 2403</td>\n",
              "      <td>Opened by  8</td>\n",
              "      <td>29-02-2016 01:16</td>\n",
              "      <td>Created by 6</td>\n",
              "      <td>29-02-2016 01:23</td>\n",
              "      <td>Updated by 908</td>\n",
              "      <td>05-03-2016 12:00</td>\n",
              "      <td>Phone</td>\n",
              "      <td>Location 143</td>\n",
              "      <td>Category 55</td>\n",
              "      <td>Symptom 72</td>\n",
              "      <td>Group 56</td>\n",
              "      <td>0</td>\n",
              "      <td>True</td>\n",
              "      <td>False</td>\n",
              "      <td>2 - Medium</td>\n",
              "      <td>Do Not Notify</td>\n",
              "    </tr>\n",
              "    <tr>\n",
              "      <th>3</th>\n",
              "      <td>INC0000047</td>\n",
              "      <td>Active</td>\n",
              "      <td>True</td>\n",
              "      <td>1</td>\n",
              "      <td>0</td>\n",
              "      <td>1</td>\n",
              "      <td>Caller 2403</td>\n",
              "      <td>Opened by  397</td>\n",
              "      <td>29-02-2016 04:40</td>\n",
              "      <td>Created by 171</td>\n",
              "      <td>29-02-2016 04:57</td>\n",
              "      <td>Updated by 21</td>\n",
              "      <td>29-02-2016 05:30</td>\n",
              "      <td>Phone</td>\n",
              "      <td>Location 165</td>\n",
              "      <td>Category 40</td>\n",
              "      <td>Symptom 471</td>\n",
              "      <td>Group 24</td>\n",
              "      <td>Resolver 31</td>\n",
              "      <td>True</td>\n",
              "      <td>False</td>\n",
              "      <td>2 - Medium</td>\n",
              "      <td>Do Not Notify</td>\n",
              "    </tr>\n",
              "    <tr>\n",
              "      <th>4</th>\n",
              "      <td>INC0000047</td>\n",
              "      <td>Active</td>\n",
              "      <td>True</td>\n",
              "      <td>1</td>\n",
              "      <td>0</td>\n",
              "      <td>2</td>\n",
              "      <td>Caller 2403</td>\n",
              "      <td>Opened by  397</td>\n",
              "      <td>29-02-2016 04:40</td>\n",
              "      <td>Created by 171</td>\n",
              "      <td>29-02-2016 04:57</td>\n",
              "      <td>Updated by 21</td>\n",
              "      <td>29-02-2016 05:33</td>\n",
              "      <td>Phone</td>\n",
              "      <td>Location 165</td>\n",
              "      <td>Category 40</td>\n",
              "      <td>Symptom 471</td>\n",
              "      <td>Group 24</td>\n",
              "      <td>Resolver 31</td>\n",
              "      <td>True</td>\n",
              "      <td>False</td>\n",
              "      <td>2 - Medium</td>\n",
              "      <td>Do Not Notify</td>\n",
              "    </tr>\n",
              "  </tbody>\n",
              "</table>\n",
              "</div>"
            ],
            "text/plain": [
              "           ID ID_status  active  ...  confirmation_check      impact         notify\n",
              "0  INC0000045       New    True  ...               False  2 - Medium  Do Not Notify\n",
              "1  INC0000045  Resolved    True  ...               False  2 - Medium  Do Not Notify\n",
              "2  INC0000045    Closed   False  ...               False  2 - Medium  Do Not Notify\n",
              "3  INC0000047    Active    True  ...               False  2 - Medium  Do Not Notify\n",
              "4  INC0000047    Active    True  ...               False  2 - Medium  Do Not Notify\n",
              "\n",
              "[5 rows x 23 columns]"
            ]
          },
          "metadata": {
            "tags": []
          },
          "execution_count": 13
        }
      ]
    },
    {
      "cell_type": "code",
      "metadata": {
        "id": "AY1Z8R0unp5r",
        "colab_type": "code",
        "outputId": "331df29c-0aac-447c-ca9b-6d6bbf5f89af",
        "colab": {
          "base_uri": "https://localhost:8080/",
          "height": 590
        }
      },
      "source": [
        "test"
      ],
      "execution_count": 0,
      "outputs": [
        {
          "output_type": "execute_result",
          "data": {
            "text/html": [
              "<div>\n",
              "<style scoped>\n",
              "    .dataframe tbody tr th:only-of-type {\n",
              "        vertical-align: middle;\n",
              "    }\n",
              "\n",
              "    .dataframe tbody tr th {\n",
              "        vertical-align: top;\n",
              "    }\n",
              "\n",
              "    .dataframe thead th {\n",
              "        text-align: right;\n",
              "    }\n",
              "</style>\n",
              "<table border=\"1\" class=\"dataframe\">\n",
              "  <thead>\n",
              "    <tr style=\"text-align: right;\">\n",
              "      <th></th>\n",
              "      <th>ID</th>\n",
              "      <th>ID_status</th>\n",
              "      <th>active</th>\n",
              "      <th>count_reassign</th>\n",
              "      <th>count_opening</th>\n",
              "      <th>count_updated</th>\n",
              "      <th>ID_caller</th>\n",
              "      <th>opened_by</th>\n",
              "      <th>opened_time</th>\n",
              "      <th>Created_by</th>\n",
              "      <th>created_at</th>\n",
              "      <th>updated_by</th>\n",
              "      <th>updated_at</th>\n",
              "      <th>type_contact</th>\n",
              "      <th>location</th>\n",
              "      <th>category_ID</th>\n",
              "      <th>user_symptom</th>\n",
              "      <th>Support_group</th>\n",
              "      <th>support_incharge</th>\n",
              "      <th>Doc_knowledge</th>\n",
              "      <th>confirmation_check</th>\n",
              "      <th>notify</th>\n",
              "    </tr>\n",
              "  </thead>\n",
              "  <tbody>\n",
              "    <tr>\n",
              "      <th>0</th>\n",
              "      <td>INC0000045</td>\n",
              "      <td>Resolved</td>\n",
              "      <td>True</td>\n",
              "      <td>0</td>\n",
              "      <td>0</td>\n",
              "      <td>2</td>\n",
              "      <td>Caller 2403</td>\n",
              "      <td>Opened by  8</td>\n",
              "      <td>29-02-2016 01:16</td>\n",
              "      <td>Created by 6</td>\n",
              "      <td>29-02-2016 01:23</td>\n",
              "      <td>Updated by 642</td>\n",
              "      <td>29-02-2016 08:53</td>\n",
              "      <td>Phone</td>\n",
              "      <td>Location 143</td>\n",
              "      <td>Category 55</td>\n",
              "      <td>Symptom 72</td>\n",
              "      <td>Group 56</td>\n",
              "      <td>0</td>\n",
              "      <td>True</td>\n",
              "      <td>False</td>\n",
              "      <td>Do Not Notify</td>\n",
              "    </tr>\n",
              "    <tr>\n",
              "      <th>1</th>\n",
              "      <td>INC0000047</td>\n",
              "      <td>New</td>\n",
              "      <td>True</td>\n",
              "      <td>0</td>\n",
              "      <td>0</td>\n",
              "      <td>0</td>\n",
              "      <td>Caller 2403</td>\n",
              "      <td>Opened by  397</td>\n",
              "      <td>29-02-2016 04:40</td>\n",
              "      <td>Created by 171</td>\n",
              "      <td>29-02-2016 04:57</td>\n",
              "      <td>Updated by 746</td>\n",
              "      <td>29-02-2016 04:57</td>\n",
              "      <td>Phone</td>\n",
              "      <td>Location 165</td>\n",
              "      <td>Category 40</td>\n",
              "      <td>Symptom 471</td>\n",
              "      <td>Group 70</td>\n",
              "      <td>Resolver 89</td>\n",
              "      <td>True</td>\n",
              "      <td>False</td>\n",
              "      <td>Do Not Notify</td>\n",
              "    </tr>\n",
              "    <tr>\n",
              "      <th>2</th>\n",
              "      <td>INC0000047</td>\n",
              "      <td>Active</td>\n",
              "      <td>True</td>\n",
              "      <td>1</td>\n",
              "      <td>0</td>\n",
              "      <td>3</td>\n",
              "      <td>Caller 2403</td>\n",
              "      <td>Opened by  397</td>\n",
              "      <td>29-02-2016 04:40</td>\n",
              "      <td>Created by 171</td>\n",
              "      <td>29-02-2016 04:57</td>\n",
              "      <td>Updated by 804</td>\n",
              "      <td>29-02-2016 11:31</td>\n",
              "      <td>Phone</td>\n",
              "      <td>Location 165</td>\n",
              "      <td>Category 40</td>\n",
              "      <td>Symptom 471</td>\n",
              "      <td>Group 24</td>\n",
              "      <td>Resolver 31</td>\n",
              "      <td>True</td>\n",
              "      <td>False</td>\n",
              "      <td>Do Not Notify</td>\n",
              "    </tr>\n",
              "    <tr>\n",
              "      <th>3</th>\n",
              "      <td>INC0000047</td>\n",
              "      <td>Resolved</td>\n",
              "      <td>True</td>\n",
              "      <td>1</td>\n",
              "      <td>0</td>\n",
              "      <td>7</td>\n",
              "      <td>Caller 2403</td>\n",
              "      <td>Opened by  397</td>\n",
              "      <td>29-02-2016 04:40</td>\n",
              "      <td>Created by 171</td>\n",
              "      <td>29-02-2016 04:57</td>\n",
              "      <td>Updated by 332</td>\n",
              "      <td>01-03-2016 09:52</td>\n",
              "      <td>Phone</td>\n",
              "      <td>Location 165</td>\n",
              "      <td>Category 40</td>\n",
              "      <td>Symptom 471</td>\n",
              "      <td>Group 24</td>\n",
              "      <td>Resolver 89</td>\n",
              "      <td>True</td>\n",
              "      <td>False</td>\n",
              "      <td>Do Not Notify</td>\n",
              "    </tr>\n",
              "    <tr>\n",
              "      <th>4</th>\n",
              "      <td>INC0000057</td>\n",
              "      <td>New</td>\n",
              "      <td>True</td>\n",
              "      <td>0</td>\n",
              "      <td>0</td>\n",
              "      <td>4</td>\n",
              "      <td>Caller 4416</td>\n",
              "      <td>Opened by  8</td>\n",
              "      <td>29-02-2016 06:10</td>\n",
              "      <td>0</td>\n",
              "      <td>0</td>\n",
              "      <td>Updated by 21</td>\n",
              "      <td>01-03-2016 02:54</td>\n",
              "      <td>Phone</td>\n",
              "      <td>Location 204</td>\n",
              "      <td>Category 20</td>\n",
              "      <td>Symptom 471</td>\n",
              "      <td>Group 70</td>\n",
              "      <td>0</td>\n",
              "      <td>True</td>\n",
              "      <td>False</td>\n",
              "      <td>Do Not Notify</td>\n",
              "    </tr>\n",
              "    <tr>\n",
              "      <th>...</th>\n",
              "      <td>...</td>\n",
              "      <td>...</td>\n",
              "      <td>...</td>\n",
              "      <td>...</td>\n",
              "      <td>...</td>\n",
              "      <td>...</td>\n",
              "      <td>...</td>\n",
              "      <td>...</td>\n",
              "      <td>...</td>\n",
              "      <td>...</td>\n",
              "      <td>...</td>\n",
              "      <td>...</td>\n",
              "      <td>...</td>\n",
              "      <td>...</td>\n",
              "      <td>...</td>\n",
              "      <td>...</td>\n",
              "      <td>...</td>\n",
              "      <td>...</td>\n",
              "      <td>...</td>\n",
              "      <td>...</td>\n",
              "      <td>...</td>\n",
              "      <td>...</td>\n",
              "    </tr>\n",
              "    <tr>\n",
              "      <th>42509</th>\n",
              "      <td>INC0119457</td>\n",
              "      <td>Closed</td>\n",
              "      <td>False</td>\n",
              "      <td>0</td>\n",
              "      <td>0</td>\n",
              "      <td>1</td>\n",
              "      <td>Caller 2403</td>\n",
              "      <td>Opened by  508</td>\n",
              "      <td>13-02-2017 11:31</td>\n",
              "      <td>0</td>\n",
              "      <td>0</td>\n",
              "      <td>Updated by 931</td>\n",
              "      <td>13-02-2017 11:31</td>\n",
              "      <td>IVR</td>\n",
              "      <td>Location 246</td>\n",
              "      <td>Category 50</td>\n",
              "      <td>Symptom 533</td>\n",
              "      <td>Group 70</td>\n",
              "      <td>0</td>\n",
              "      <td>False</td>\n",
              "      <td>False</td>\n",
              "      <td>Do Not Notify</td>\n",
              "    </tr>\n",
              "    <tr>\n",
              "      <th>42510</th>\n",
              "      <td>INC0119983</td>\n",
              "      <td>New</td>\n",
              "      <td>True</td>\n",
              "      <td>0</td>\n",
              "      <td>0</td>\n",
              "      <td>0</td>\n",
              "      <td>Caller 831</td>\n",
              "      <td>Opened by  508</td>\n",
              "      <td>14-02-2017 11:11</td>\n",
              "      <td>0</td>\n",
              "      <td>0</td>\n",
              "      <td>Updated by 908</td>\n",
              "      <td>14-02-2017 11:11</td>\n",
              "      <td>IVR</td>\n",
              "      <td>Location 246</td>\n",
              "      <td>Category 50</td>\n",
              "      <td>Symptom 533</td>\n",
              "      <td>Group 70</td>\n",
              "      <td>0</td>\n",
              "      <td>False</td>\n",
              "      <td>False</td>\n",
              "      <td>Do Not Notify</td>\n",
              "    </tr>\n",
              "    <tr>\n",
              "      <th>42511</th>\n",
              "      <td>INC0120303</td>\n",
              "      <td>New</td>\n",
              "      <td>True</td>\n",
              "      <td>0</td>\n",
              "      <td>0</td>\n",
              "      <td>0</td>\n",
              "      <td>Caller 1866</td>\n",
              "      <td>Opened by  508</td>\n",
              "      <td>15-02-2017 01:52</td>\n",
              "      <td>0</td>\n",
              "      <td>0</td>\n",
              "      <td>Updated by 908</td>\n",
              "      <td>15-02-2017 01:52</td>\n",
              "      <td>IVR</td>\n",
              "      <td>Location 246</td>\n",
              "      <td>Category 50</td>\n",
              "      <td>Symptom 533</td>\n",
              "      <td>Group 70</td>\n",
              "      <td>0</td>\n",
              "      <td>False</td>\n",
              "      <td>False</td>\n",
              "      <td>Do Not Notify</td>\n",
              "    </tr>\n",
              "    <tr>\n",
              "      <th>42512</th>\n",
              "      <td>INC0120319</td>\n",
              "      <td>New</td>\n",
              "      <td>True</td>\n",
              "      <td>0</td>\n",
              "      <td>0</td>\n",
              "      <td>0</td>\n",
              "      <td>Caller 1899</td>\n",
              "      <td>Opened by  508</td>\n",
              "      <td>15-02-2017 07:09</td>\n",
              "      <td>0</td>\n",
              "      <td>0</td>\n",
              "      <td>Updated by 908</td>\n",
              "      <td>15-02-2017 07:09</td>\n",
              "      <td>IVR</td>\n",
              "      <td>Location 246</td>\n",
              "      <td>Category 50</td>\n",
              "      <td>Symptom 533</td>\n",
              "      <td>Group 70</td>\n",
              "      <td>0</td>\n",
              "      <td>False</td>\n",
              "      <td>False</td>\n",
              "      <td>Do Not Notify</td>\n",
              "    </tr>\n",
              "    <tr>\n",
              "      <th>42513</th>\n",
              "      <td>INC0121064</td>\n",
              "      <td>Closed</td>\n",
              "      <td>False</td>\n",
              "      <td>1</td>\n",
              "      <td>0</td>\n",
              "      <td>3</td>\n",
              "      <td>Caller 116</td>\n",
              "      <td>Opened by  12</td>\n",
              "      <td>16-02-2017 14:17</td>\n",
              "      <td>0</td>\n",
              "      <td>0</td>\n",
              "      <td>Updated by 27</td>\n",
              "      <td>16-02-2017 16:38</td>\n",
              "      <td>Email</td>\n",
              "      <td>Location 204</td>\n",
              "      <td>Category 42</td>\n",
              "      <td>Symptom 494</td>\n",
              "      <td>Group 31</td>\n",
              "      <td>Resolver 10</td>\n",
              "      <td>False</td>\n",
              "      <td>True</td>\n",
              "      <td>Do Not Notify</td>\n",
              "    </tr>\n",
              "  </tbody>\n",
              "</table>\n",
              "<p>42514 rows × 22 columns</p>\n",
              "</div>"
            ],
            "text/plain": [
              "               ID ID_status  ...  confirmation_check         notify\n",
              "0      INC0000045  Resolved  ...               False  Do Not Notify\n",
              "1      INC0000047       New  ...               False  Do Not Notify\n",
              "2      INC0000047    Active  ...               False  Do Not Notify\n",
              "3      INC0000047  Resolved  ...               False  Do Not Notify\n",
              "4      INC0000057       New  ...               False  Do Not Notify\n",
              "...           ...       ...  ...                 ...            ...\n",
              "42509  INC0119457    Closed  ...               False  Do Not Notify\n",
              "42510  INC0119983       New  ...               False  Do Not Notify\n",
              "42511  INC0120303       New  ...               False  Do Not Notify\n",
              "42512  INC0120319       New  ...               False  Do Not Notify\n",
              "42513  INC0121064    Closed  ...                True  Do Not Notify\n",
              "\n",
              "[42514 rows x 22 columns]"
            ]
          },
          "metadata": {
            "tags": []
          },
          "execution_count": 14
        }
      ]
    },
    {
      "cell_type": "code",
      "metadata": {
        "id": "GIlc3eTBnhD4",
        "colab_type": "code",
        "outputId": "9d36636c-c0ff-43a2-8309-d6d8a0f26bfb",
        "colab": {
          "base_uri": "https://localhost:8080/",
          "height": 770
        }
      },
      "source": [
        "#Check the unique values\n",
        "import seaborn as sns\n",
        "nu = train.nunique().reset_index()\n",
        "nu.columns = ['Columns', 'uniques']\n",
        "ax = sns.barplot(x='Columns', y='uniques', data=nu)\n",
        "ax.tick_params(axis='x', rotation=90)\n",
        "print(nu)"
      ],
      "execution_count": 0,
      "outputs": [
        {
          "output_type": "stream",
          "text": [
            "               Columns  uniques\n",
            "0                   ID    24569\n",
            "1            ID_status        9\n",
            "2               active        2\n",
            "3       count_reassign       28\n",
            "4        count_opening        9\n",
            "5        count_updated      113\n",
            "6            ID_caller     5223\n",
            "7            opened_by      208\n",
            "8          opened_time    19620\n",
            "9           Created_by      186\n",
            "10          created_at    11485\n",
            "11          updated_by      751\n",
            "12          updated_at    43003\n",
            "13        type_contact        5\n",
            "14            location      225\n",
            "15         category_ID       57\n",
            "16        user_symptom      516\n",
            "17       Support_group       78\n",
            "18    support_incharge      232\n",
            "19       Doc_knowledge        2\n",
            "20  confirmation_check        2\n",
            "21              impact        3\n",
            "22              notify        2\n"
          ],
          "name": "stdout"
        },
        {
          "output_type": "display_data",
          "data": {
            "image/png": "[encoded data removed]",
            "text/plain": [
              "<Figure size 432x288 with 1 Axes>"
            ]
          },
          "metadata": {
            "tags": []
          }
        }
      ]
    },
    {
      "cell_type": "code",
      "metadata": {
        "id": "ppVEtVoTXt4N",
        "colab_type": "code",
        "colab": {}
      },
      "source": [
        "import datetime\n",
        "train.created_at.replace(to_replace =[\"0\"],value =\"31-01-2016 00:00\", inplace= True)  #contant datevalue\n",
        "test.created_at.replace(to_replace =[\"0\"],value =\"31-01-2016 00:00\", inplace= True)   #contant date value"
      ],
      "execution_count": 0,
      "outputs": []
    },
    {
      "cell_type": "code",
      "metadata": {
        "id": "LuzH1qtJgJmP",
        "colab_type": "code",
        "outputId": "e29b7c8d-bd50-45d4-b514-177663ea6329",
        "colab": {
          "base_uri": "https://localhost:8080/",
          "height": 454
        }
      },
      "source": [
        "print(\"train \\n\",train.created_at.value_counts() , \"\\ntest\\n \",test.created_at.value_counts())"
      ],
      "execution_count": 0,
      "outputs": [
        {
          "output_type": "stream",
          "text": [
            "train \n",
            " 31-01-2016 00:00    37174\n",
            "04-07-2016 14:50       41\n",
            "15-03-2016 15:19       38\n",
            "19-04-2016 11:32       36\n",
            "30-03-2016 08:23       33\n",
            "                    ...  \n",
            "03-05-2016 09:48        1\n",
            "04-04-2016 08:22        1\n",
            "24-03-2016 11:30        1\n",
            "13-05-2016 05:08        1\n",
            "20-04-2016 17:06        1\n",
            "Name: created_at, Length: 11485, dtype: int64 \n",
            "test\n",
            "  31-01-2016 00:00    15902\n",
            "17-03-2016 17:56       18\n",
            "29-03-2016 14:39       15\n",
            "04-03-2016 10:31       15\n",
            "04-07-2016 14:50       15\n",
            "                    ...  \n",
            "05-05-2016 11:03        1\n",
            "02-03-2016 18:21        1\n",
            "30-05-2016 09:04        1\n",
            "25-04-2016 17:03        1\n",
            "01-03-2016 08:04        1\n",
            "Name: created_at, Length: 10005, dtype: int64\n"
          ],
          "name": "stdout"
        }
      ]
    },
    {
      "cell_type": "code",
      "metadata": {
        "id": "LfW2WbXiQdxL",
        "colab_type": "code",
        "colab": {}
      },
      "source": [
        "#Data preprocessing for opened_time , created_at , updated_at\tthese datetime columns\n",
        "#we converting into day wies ordinal encoding\n",
        "#For e.g: \n",
        "\"\"\"\n",
        "07-03-2016 11:04    43                                7\n",
        "07-03-2016 09:25    39                                7\n",
        "07-03-2016 09:11    38                                7\n",
        "30-03-2016 09:20    37                                30\n",
        "30-03-2016 08:20    36                                30\n",
        "Name: opened_time, dtype: int64\n",
        "\n",
        "07-03-2016 11:04 same date but timing should be different sso we did day ordinal encoding of those columns (its healps to reducing levels)\n",
        "\"\"\"\n",
        "train['opened_time']= pd.to_datetime(train['opened_time']) \n",
        "train['created_at']= pd.to_datetime(train['created_at']) \n",
        "train['updated_at']= pd.to_datetime(train['updated_at']) \n",
        "test['opened_time']= pd.to_datetime(test['opened_time']) \n",
        "test['created_at']= pd.to_datetime(test['created_at']) \n",
        "test['updated_at']= pd.to_datetime(test['updated_at']) \n"
      ],
      "execution_count": 0,
      "outputs": []
    },
    {
      "cell_type": "code",
      "metadata": {
        "id": "uHAwB5KyRIv8",
        "colab_type": "code",
        "colab": {}
      },
      "source": [
        "#opened_time , created_at , updated_at\n",
        "train['opened_time_d'] = train['opened_time'].dt.day\n",
        "train['created_at_d'] = train['created_at'].dt.day\n",
        "train['updated_at_d'] = train['updated_at'].dt.day\n",
        "test['opened_time_d'] = test['opened_time'].dt.day\n",
        "test['created_at_d'] = test['created_at'].dt.day\n",
        "test['updated_at_d'] = test['updated_at'].dt.day"
      ],
      "execution_count": 0,
      "outputs": []
    },
    {
      "cell_type": "code",
      "metadata": {
        "id": "2svEU9j-RwLM",
        "colab_type": "code",
        "outputId": "fae7dd64-a733-4ee5-a48f-6f662dc4d8ca",
        "colab": {
          "base_uri": "https://localhost:8080/",
          "height": 320
        }
      },
      "source": [
        "train = train.drop([\"opened_time\" , \"created_at\" , \"updated_at\"], axis=1)\n",
        "test = test.drop([\"opened_time\" , \"created_at\" , \"updated_at\"], axis=1)"
      ],
      "execution_count": 0,
      "outputs": [
        {
          "output_type": "error",
          "ename": "KeyError",
          "evalue": "ignored",
          "traceback": [
            "\u001b[0;31m---------------------------------------------------------------------------\u001b[0m",
            "\u001b[0;31mKeyError\u001b[0m                                  Traceback (most recent call last)",
            "\u001b[0;32m<ipython-input-21-8c45036a5e56>\u001b[0m in \u001b[0;36m<module>\u001b[0;34m()\u001b[0m\n\u001b[0;32m----> 1\u001b[0;31m \u001b[0mtrain\u001b[0m \u001b[0;34m=\u001b[0m \u001b[0mtrain\u001b[0m\u001b[0;34m.\u001b[0m\u001b[0mdrop\u001b[0m\u001b[0;34m(\u001b[0m\u001b[0;34m[\u001b[0m\u001b[0;34m\"opened_time\"\u001b[0m \u001b[0;34m,\u001b[0m \u001b[0;34m\"created_at\"\u001b[0m \u001b[0;34m,\u001b[0m \u001b[0;34m\"updated_at\"\u001b[0m\u001b[0;34m]\u001b[0m\u001b[0;34m,\u001b[0m \u001b[0maxis\u001b[0m\u001b[0;34m=\u001b[0m\u001b[0;36m1\u001b[0m\u001b[0;34m)\u001b[0m\u001b[0;34m\u001b[0m\u001b[0;34m\u001b[0m\u001b[0m\n\u001b[0m\u001b[1;32m      2\u001b[0m \u001b[0mtest\u001b[0m \u001b[0;34m=\u001b[0m \u001b[0mtest\u001b[0m\u001b[0;34m.\u001b[0m\u001b[0mdrop\u001b[0m\u001b[0;34m(\u001b[0m\u001b[0;34m[\u001b[0m\u001b[0;34m\"opened_time\"\u001b[0m \u001b[0;34m,\u001b[0m \u001b[0;34m\"created_at\"\u001b[0m \u001b[0;34m,\u001b[0m \u001b[0;34m\"updated_at\"\u001b[0m\u001b[0;34m]\u001b[0m\u001b[0;34m,\u001b[0m \u001b[0maxis\u001b[0m\u001b[0;34m=\u001b[0m\u001b[0;36m1\u001b[0m\u001b[0;34m)\u001b[0m\u001b[0;34m\u001b[0m\u001b[0;34m\u001b[0m\u001b[0m\n",
            "\u001b[0;32m/usr/local/lib/python3.6/dist-packages/pandas/core/frame.py\u001b[0m in \u001b[0;36mdrop\u001b[0;34m(self, labels, axis, index, columns, level, inplace, errors)\u001b[0m\n\u001b[1;32m   4115\u001b[0m             \u001b[0mlevel\u001b[0m\u001b[0;34m=\u001b[0m\u001b[0mlevel\u001b[0m\u001b[0;34m,\u001b[0m\u001b[0;34m\u001b[0m\u001b[0;34m\u001b[0m\u001b[0m\n\u001b[1;32m   4116\u001b[0m             \u001b[0minplace\u001b[0m\u001b[0;34m=\u001b[0m\u001b[0minplace\u001b[0m\u001b[0;34m,\u001b[0m\u001b[0;34m\u001b[0m\u001b[0;34m\u001b[0m\u001b[0m\n\u001b[0;32m-> 4117\u001b[0;31m             \u001b[0merrors\u001b[0m\u001b[0;34m=\u001b[0m\u001b[0merrors\u001b[0m\u001b[0;34m,\u001b[0m\u001b[0;34m\u001b[0m\u001b[0;34m\u001b[0m\u001b[0m\n\u001b[0m\u001b[1;32m   4118\u001b[0m         )\n\u001b[1;32m   4119\u001b[0m \u001b[0;34m\u001b[0m\u001b[0m\n",
            "\u001b[0;32m/usr/local/lib/python3.6/dist-packages/pandas/core/generic.py\u001b[0m in \u001b[0;36mdrop\u001b[0;34m(self, labels, axis, index, columns, level, inplace, errors)\u001b[0m\n\u001b[1;32m   3912\u001b[0m         \u001b[0;32mfor\u001b[0m \u001b[0maxis\u001b[0m\u001b[0;34m,\u001b[0m \u001b[0mlabels\u001b[0m \u001b[0;32min\u001b[0m \u001b[0maxes\u001b[0m\u001b[0;34m.\u001b[0m\u001b[0mitems\u001b[0m\u001b[0;34m(\u001b[0m\u001b[0;34m)\u001b[0m\u001b[0;34m:\u001b[0m\u001b[0;34m\u001b[0m\u001b[0;34m\u001b[0m\u001b[0m\n\u001b[1;32m   3913\u001b[0m             \u001b[0;32mif\u001b[0m \u001b[0mlabels\u001b[0m \u001b[0;32mis\u001b[0m \u001b[0;32mnot\u001b[0m \u001b[0;32mNone\u001b[0m\u001b[0;34m:\u001b[0m\u001b[0;34m\u001b[0m\u001b[0;34m\u001b[0m\u001b[0m\n\u001b[0;32m-> 3914\u001b[0;31m                 \u001b[0mobj\u001b[0m \u001b[0;34m=\u001b[0m \u001b[0mobj\u001b[0m\u001b[0;34m.\u001b[0m\u001b[0m_drop_axis\u001b[0m\u001b[0;34m(\u001b[0m\u001b[0mlabels\u001b[0m\u001b[0;34m,\u001b[0m \u001b[0maxis\u001b[0m\u001b[0;34m,\u001b[0m \u001b[0mlevel\u001b[0m\u001b[0;34m=\u001b[0m\u001b[0mlevel\u001b[0m\u001b[0;34m,\u001b[0m \u001b[0merrors\u001b[0m\u001b[0;34m=\u001b[0m\u001b[0merrors\u001b[0m\u001b[0;34m)\u001b[0m\u001b[0;34m\u001b[0m\u001b[0;34m\u001b[0m\u001b[0m\n\u001b[0m\u001b[1;32m   3915\u001b[0m \u001b[0;34m\u001b[0m\u001b[0m\n\u001b[1;32m   3916\u001b[0m         \u001b[0;32mif\u001b[0m \u001b[0minplace\u001b[0m\u001b[0;34m:\u001b[0m\u001b[0;34m\u001b[0m\u001b[0;34m\u001b[0m\u001b[0m\n",
            "\u001b[0;32m/usr/local/lib/python3.6/dist-packages/pandas/core/generic.py\u001b[0m in \u001b[0;36m_drop_axis\u001b[0;34m(self, labels, axis, level, errors)\u001b[0m\n\u001b[1;32m   3944\u001b[0m                 \u001b[0mnew_axis\u001b[0m \u001b[0;34m=\u001b[0m \u001b[0maxis\u001b[0m\u001b[0;34m.\u001b[0m\u001b[0mdrop\u001b[0m\u001b[0;34m(\u001b[0m\u001b[0mlabels\u001b[0m\u001b[0;34m,\u001b[0m \u001b[0mlevel\u001b[0m\u001b[0;34m=\u001b[0m\u001b[0mlevel\u001b[0m\u001b[0;34m,\u001b[0m \u001b[0merrors\u001b[0m\u001b[0;34m=\u001b[0m\u001b[0merrors\u001b[0m\u001b[0;34m)\u001b[0m\u001b[0;34m\u001b[0m\u001b[0;34m\u001b[0m\u001b[0m\n\u001b[1;32m   3945\u001b[0m             \u001b[0;32melse\u001b[0m\u001b[0;34m:\u001b[0m\u001b[0;34m\u001b[0m\u001b[0;34m\u001b[0m\u001b[0m\n\u001b[0;32m-> 3946\u001b[0;31m                 \u001b[0mnew_axis\u001b[0m \u001b[0;34m=\u001b[0m \u001b[0maxis\u001b[0m\u001b[0;34m.\u001b[0m\u001b[0mdrop\u001b[0m\u001b[0;34m(\u001b[0m\u001b[0mlabels\u001b[0m\u001b[0;34m,\u001b[0m \u001b[0merrors\u001b[0m\u001b[0;34m=\u001b[0m\u001b[0merrors\u001b[0m\u001b[0;34m)\u001b[0m\u001b[0;34m\u001b[0m\u001b[0;34m\u001b[0m\u001b[0m\n\u001b[0m\u001b[1;32m   3947\u001b[0m             \u001b[0mresult\u001b[0m \u001b[0;34m=\u001b[0m \u001b[0mself\u001b[0m\u001b[0;34m.\u001b[0m\u001b[0mreindex\u001b[0m\u001b[0;34m(\u001b[0m\u001b[0;34m**\u001b[0m\u001b[0;34m{\u001b[0m\u001b[0maxis_name\u001b[0m\u001b[0;34m:\u001b[0m \u001b[0mnew_axis\u001b[0m\u001b[0;34m}\u001b[0m\u001b[0;34m)\u001b[0m\u001b[0;34m\u001b[0m\u001b[0;34m\u001b[0m\u001b[0m\n\u001b[1;32m   3948\u001b[0m \u001b[0;34m\u001b[0m\u001b[0m\n",
            "\u001b[0;32m/usr/local/lib/python3.6/dist-packages/pandas/core/indexes/base.py\u001b[0m in \u001b[0;36mdrop\u001b[0;34m(self, labels, errors)\u001b[0m\n\u001b[1;32m   5338\u001b[0m         \u001b[0;32mif\u001b[0m \u001b[0mmask\u001b[0m\u001b[0;34m.\u001b[0m\u001b[0many\u001b[0m\u001b[0;34m(\u001b[0m\u001b[0;34m)\u001b[0m\u001b[0;34m:\u001b[0m\u001b[0;34m\u001b[0m\u001b[0;34m\u001b[0m\u001b[0m\n\u001b[1;32m   5339\u001b[0m             \u001b[0;32mif\u001b[0m \u001b[0merrors\u001b[0m \u001b[0;34m!=\u001b[0m \u001b[0;34m\"ignore\"\u001b[0m\u001b[0;34m:\u001b[0m\u001b[0;34m\u001b[0m\u001b[0;34m\u001b[0m\u001b[0m\n\u001b[0;32m-> 5340\u001b[0;31m                 \u001b[0;32mraise\u001b[0m \u001b[0mKeyError\u001b[0m\u001b[0;34m(\u001b[0m\u001b[0;34m\"{} not found in axis\"\u001b[0m\u001b[0;34m.\u001b[0m\u001b[0mformat\u001b[0m\u001b[0;34m(\u001b[0m\u001b[0mlabels\u001b[0m\u001b[0;34m[\u001b[0m\u001b[0mmask\u001b[0m\u001b[0;34m]\u001b[0m\u001b[0;34m)\u001b[0m\u001b[0;34m)\u001b[0m\u001b[0;34m\u001b[0m\u001b[0;34m\u001b[0m\u001b[0m\n\u001b[0m\u001b[1;32m   5341\u001b[0m             \u001b[0mindexer\u001b[0m \u001b[0;34m=\u001b[0m \u001b[0mindexer\u001b[0m\u001b[0;34m[\u001b[0m\u001b[0;34m~\u001b[0m\u001b[0mmask\u001b[0m\u001b[0;34m]\u001b[0m\u001b[0;34m\u001b[0m\u001b[0;34m\u001b[0m\u001b[0m\n\u001b[1;32m   5342\u001b[0m         \u001b[0;32mreturn\u001b[0m \u001b[0mself\u001b[0m\u001b[0;34m.\u001b[0m\u001b[0mdelete\u001b[0m\u001b[0;34m(\u001b[0m\u001b[0mindexer\u001b[0m\u001b[0;34m)\u001b[0m\u001b[0;34m\u001b[0m\u001b[0;34m\u001b[0m\u001b[0m\n",
            "\u001b[0;31mKeyError\u001b[0m: \"['opened_time' 'created_at' 'updated_at'] not found in axis\""
          ]
        }
      ]
    },
    {
      "cell_type": "code",
      "metadata": {
        "id": "cBYltElJX1Ma",
        "colab_type": "code",
        "outputId": "0862ad90-1340-4656-8813-36d64055ace1",
        "colab": {
          "base_uri": "https://localhost:8080/",
          "height": 1000
        }
      },
      "source": [
        "print(\"Train Dataset \\n\",train.info(),\"\\nTest Datset : \\n\",test.info())"
      ],
      "execution_count": 0,
      "outputs": [
        {
          "output_type": "stream",
          "text": [
            "<class 'pandas.core.frame.DataFrame'>\n",
            "RangeIndex: 99198 entries, 0 to 99197\n",
            "Data columns (total 23 columns):\n",
            "ID                    99198 non-null object\n",
            "ID_status             99198 non-null object\n",
            "active                99198 non-null bool\n",
            "count_reassign        99198 non-null int64\n",
            "count_opening         99198 non-null int64\n",
            "count_updated         99198 non-null int64\n",
            "ID_caller             99198 non-null object\n",
            "opened_by             99198 non-null object\n",
            "Created_by            99198 non-null object\n",
            "updated_by            99198 non-null object\n",
            "type_contact          99198 non-null object\n",
            "location              99198 non-null object\n",
            "category_ID           99198 non-null object\n",
            "user_symptom          99198 non-null object\n",
            "Support_group         99198 non-null object\n",
            "support_incharge      99198 non-null object\n",
            "Doc_knowledge         99198 non-null bool\n",
            "confirmation_check    99198 non-null bool\n",
            "impact                99198 non-null object\n",
            "notify                99198 non-null object\n",
            "opened_time_d         99198 non-null int64\n",
            "created_at_d          99198 non-null int64\n",
            "updated_at_d          99198 non-null int64\n",
            "dtypes: bool(3), int64(6), object(14)\n",
            "memory usage: 15.4+ MB\n",
            "<class 'pandas.core.frame.DataFrame'>\n",
            "RangeIndex: 42514 entries, 0 to 42513\n",
            "Data columns (total 22 columns):\n",
            "ID                    42514 non-null object\n",
            "ID_status             42514 non-null object\n",
            "active                42514 non-null bool\n",
            "count_reassign        42514 non-null int64\n",
            "count_opening         42514 non-null int64\n",
            "count_updated         42514 non-null int64\n",
            "ID_caller             42514 non-null object\n",
            "opened_by             42514 non-null object\n",
            "Created_by            42514 non-null object\n",
            "updated_by            42514 non-null object\n",
            "type_contact          42514 non-null object\n",
            "location              42514 non-null object\n",
            "category_ID           42514 non-null object\n",
            "user_symptom          42514 non-null object\n",
            "Support_group         42514 non-null object\n",
            "support_incharge      42514 non-null object\n",
            "Doc_knowledge         42514 non-null bool\n",
            "confirmation_check    42514 non-null bool\n",
            "notify                42514 non-null object\n",
            "opened_time_d         42514 non-null int64\n",
            "created_at_d          42514 non-null int64\n",
            "updated_at_d          42514 non-null int64\n",
            "dtypes: bool(3), int64(6), object(13)\n",
            "memory usage: 6.3+ MB\n",
            "Train Dataset \n",
            " None \n",
            "Test Datset : \n",
            " None\n"
          ],
          "name": "stdout"
        }
      ]
    },
    {
      "cell_type": "code",
      "metadata": {
        "id": "Ik3-w2rOgLN_",
        "colab_type": "code",
        "colab": {}
      },
      "source": [
        "#Label encoding Train and Test dataset\n",
        "from sklearn import preprocessing\n",
        "le = preprocessing.LabelEncoder()\n",
        "train['ID'] = le.fit_transform(train['ID'])\n",
        "train['ID_status'] = le.fit_transform(train['ID_status'])\n",
        "train['active'] = le.fit_transform(train['active'])\n",
        "train['ID_caller'] = le.fit_transform(train['ID_caller'])\n",
        "train['opened_by'] = le.fit_transform(train['opened_by'])\n",
        "train['Created_by'] = le.fit_transform(train['Created_by'])\n",
        "train['updated_by'] = le.fit_transform(train['updated_by'])\n",
        "train['type_contact'] = le.fit_transform(train['type_contact'])\n",
        "train['location'] = le.fit_transform(train['location'])\n",
        "train['category_ID'] = le.fit_transform(train['category_ID'])\n",
        "train['user_symptom'] = le.fit_transform(train['user_symptom'])\n",
        "train['Support_group'] = le.fit_transform(train['Support_group'])\n",
        "train['support_incharge'] = le.fit_transform(train['support_incharge'])\n",
        "train['Doc_knowledge'] = le.fit_transform(train['Doc_knowledge'])\n",
        "train['confirmation_check'] = le.fit_transform(train['confirmation_check'])\n",
        "train['impact'] = le.fit_transform(train['impact'])\n",
        "train['notify'] = le.fit_transform(train['notify'])\n",
        "#train['problem_ID'] = le.fit_transform(train['problem_ID'])\n",
        "#train['change_request'] = le.fit_transform(train['change_request'])"
      ],
      "execution_count": 0,
      "outputs": []
    },
    {
      "cell_type": "code",
      "metadata": {
        "id": "VuKktPSrjojq",
        "colab_type": "code",
        "colab": {}
      },
      "source": [
        "test['ID'] = le.fit_transform(test['ID'])\n",
        "test['ID_status'] = le.fit_transform(test['ID_status'])\n",
        "test['active'] = le.fit_transform(test['active'])\n",
        "test['ID_caller'] = le.fit_transform(test['ID_caller'])\n",
        "test['opened_by'] = le.fit_transform(test['opened_by'])\n",
        "test['Created_by'] = le.fit_transform(test['Created_by'])\n",
        "test['updated_by'] = le.fit_transform(test['updated_by'])\n",
        "test['type_contact'] = le.fit_transform(test['type_contact'])\n",
        "test['location'] = le.fit_transform(test['location'])\n",
        "test['category_ID'] = le.fit_transform(test['category_ID'])\n",
        "test['user_symptom'] = le.fit_transform(test['user_symptom'])\n",
        "test['Support_group'] = le.fit_transform(test['Support_group'])\n",
        "test['support_incharge'] = le.fit_transform(test['support_incharge'])\n",
        "test['Doc_knowledge'] = le.fit_transform(test['Doc_knowledge'])\n",
        "test['confirmation_check'] = le.fit_transform(test['confirmation_check'])\n",
        "test['notify'] = le.fit_transform(test['notify'])\n",
        "#test['problem_ID'] = le.fit_transform(test['problem_ID'])\n",
        "#test['change_request'] = le.fit_transform(test['change_request'])"
      ],
      "execution_count": 0,
      "outputs": []
    },
    {
      "cell_type": "code",
      "metadata": {
        "id": "ucW-MS3kxXVI",
        "colab_type": "code",
        "colab": {}
      },
      "source": [
        "#train.to_csv('/content/drive/My Drive/Incident/NewTrain.csv')\n",
        "#test.to_csv('/content/drive/My Drive/Incident/NewTest.csv')"
      ],
      "execution_count": 0,
      "outputs": []
    },
    {
      "cell_type": "markdown",
      "metadata": {
        "id": "24jqR7gflv1Z",
        "colab_type": "text"
      },
      "source": [
        "# **Univariate Selection**\n",
        "\n",
        "Statistical tests can be used to select those features that have the strongest relationship with the output variable.\n",
        "\n",
        "The scikit-learn library provides the SelectKBest class that can be used with a suite of different statistical tests to select a specific number of features.\n",
        "\n",
        "The example below uses the chi-squared (chi²) statistical test for non-negative features to select 10 of the best features from the Mobile Price Range Prediction Dataset."
      ]
    },
    {
      "cell_type": "code",
      "metadata": {
        "id": "lqTfA0g_gYUi",
        "colab_type": "code",
        "colab": {}
      },
      "source": [
        "from sklearn.feature_selection import SelectKBest\n",
        "from sklearn.feature_selection import chi2"
      ],
      "execution_count": 0,
      "outputs": []
    },
    {
      "cell_type": "code",
      "metadata": {
        "id": "BqD8e7P9ijDp",
        "colab_type": "code",
        "colab": {}
      },
      "source": [
        "y = train['impact']\n",
        "X = train.drop(['impact'], axis = 1)"
      ],
      "execution_count": 0,
      "outputs": []
    },
    {
      "cell_type": "code",
      "metadata": {
        "id": "8ImobEOAkVgn",
        "colab_type": "code",
        "colab": {}
      },
      "source": [
        "#apply SelectKBest class to extract top 10 best features\n",
        "bestfeatures = SelectKBest(score_func=chi2, k=15)\n",
        "fit = bestfeatures.fit(X,y)"
      ],
      "execution_count": 0,
      "outputs": []
    },
    {
      "cell_type": "code",
      "metadata": {
        "id": "qRTvfLXckg46",
        "colab_type": "code",
        "colab": {}
      },
      "source": [
        "dfscores = pd.DataFrame(fit.scores_)\n",
        "dfcolumns = pd.DataFrame(X.columns)"
      ],
      "execution_count": 0,
      "outputs": []
    },
    {
      "cell_type": "code",
      "metadata": {
        "id": "dbgehJh6klqr",
        "colab_type": "code",
        "colab": {}
      },
      "source": [
        "#concat two dataframes for better visualization \n",
        "featureScores = pd.concat([dfcolumns,dfscores],axis=1)\n",
        "featureScores.columns = ['Specs','Score']  #naming the dataframe columns"
      ],
      "execution_count": 0,
      "outputs": []
    },
    {
      "cell_type": "code",
      "metadata": {
        "id": "2xFGVf68kne0",
        "colab_type": "code",
        "outputId": "186bce2f-7a9f-4f85-e4e2-8efe948e271e",
        "colab": {
          "base_uri": "https://localhost:8080/",
          "height": 698
        }
      },
      "source": [
        "featureScores"
      ],
      "execution_count": 0,
      "outputs": [
        {
          "output_type": "execute_result",
          "data": {
            "text/html": [
              "<div>\n",
              "<style scoped>\n",
              "    .dataframe tbody tr th:only-of-type {\n",
              "        vertical-align: middle;\n",
              "    }\n",
              "\n",
              "    .dataframe tbody tr th {\n",
              "        vertical-align: top;\n",
              "    }\n",
              "\n",
              "    .dataframe thead th {\n",
              "        text-align: right;\n",
              "    }\n",
              "</style>\n",
              "<table border=\"1\" class=\"dataframe\">\n",
              "  <thead>\n",
              "    <tr style=\"text-align: right;\">\n",
              "      <th></th>\n",
              "      <th>Specs</th>\n",
              "      <th>Score</th>\n",
              "    </tr>\n",
              "  </thead>\n",
              "  <tbody>\n",
              "    <tr>\n",
              "      <th>0</th>\n",
              "      <td>ID</td>\n",
              "      <td>1.768104e+06</td>\n",
              "    </tr>\n",
              "    <tr>\n",
              "      <th>1</th>\n",
              "      <td>ID_status</td>\n",
              "      <td>3.928703e+00</td>\n",
              "    </tr>\n",
              "    <tr>\n",
              "      <th>2</th>\n",
              "      <td>active</td>\n",
              "      <td>1.168790e+01</td>\n",
              "    </tr>\n",
              "    <tr>\n",
              "      <th>3</th>\n",
              "      <td>count_reassign</td>\n",
              "      <td>1.677602e+02</td>\n",
              "    </tr>\n",
              "    <tr>\n",
              "      <th>4</th>\n",
              "      <td>count_opening</td>\n",
              "      <td>3.839474e+01</td>\n",
              "    </tr>\n",
              "    <tr>\n",
              "      <th>5</th>\n",
              "      <td>count_updated</td>\n",
              "      <td>1.222077e+03</td>\n",
              "    </tr>\n",
              "    <tr>\n",
              "      <th>6</th>\n",
              "      <td>ID_caller</td>\n",
              "      <td>2.265937e+03</td>\n",
              "    </tr>\n",
              "    <tr>\n",
              "      <th>7</th>\n",
              "      <td>opened_by</td>\n",
              "      <td>3.078620e+04</td>\n",
              "    </tr>\n",
              "    <tr>\n",
              "      <th>8</th>\n",
              "      <td>Created_by</td>\n",
              "      <td>3.923304e+04</td>\n",
              "    </tr>\n",
              "    <tr>\n",
              "      <th>9</th>\n",
              "      <td>updated_by</td>\n",
              "      <td>7.767713e+03</td>\n",
              "    </tr>\n",
              "    <tr>\n",
              "      <th>10</th>\n",
              "      <td>type_contact</td>\n",
              "      <td>8.868066e-02</td>\n",
              "    </tr>\n",
              "    <tr>\n",
              "      <th>11</th>\n",
              "      <td>location</td>\n",
              "      <td>2.617487e+02</td>\n",
              "    </tr>\n",
              "    <tr>\n",
              "      <th>12</th>\n",
              "      <td>category_ID</td>\n",
              "      <td>5.038379e+01</td>\n",
              "    </tr>\n",
              "    <tr>\n",
              "      <th>13</th>\n",
              "      <td>user_symptom</td>\n",
              "      <td>9.649329e+03</td>\n",
              "    </tr>\n",
              "    <tr>\n",
              "      <th>14</th>\n",
              "      <td>Support_group</td>\n",
              "      <td>1.207697e+03</td>\n",
              "    </tr>\n",
              "    <tr>\n",
              "      <th>15</th>\n",
              "      <td>support_incharge</td>\n",
              "      <td>7.280527e+03</td>\n",
              "    </tr>\n",
              "    <tr>\n",
              "      <th>16</th>\n",
              "      <td>Doc_knowledge</td>\n",
              "      <td>7.261787e+02</td>\n",
              "    </tr>\n",
              "    <tr>\n",
              "      <th>17</th>\n",
              "      <td>confirmation_check</td>\n",
              "      <td>9.078740e+01</td>\n",
              "    </tr>\n",
              "    <tr>\n",
              "      <th>18</th>\n",
              "      <td>notify</td>\n",
              "      <td>4.667886e+00</td>\n",
              "    </tr>\n",
              "    <tr>\n",
              "      <th>19</th>\n",
              "      <td>opened_time_d</td>\n",
              "      <td>9.264918e+02</td>\n",
              "    </tr>\n",
              "    <tr>\n",
              "      <th>20</th>\n",
              "      <td>created_at_d</td>\n",
              "      <td>8.327640e+02</td>\n",
              "    </tr>\n",
              "    <tr>\n",
              "      <th>21</th>\n",
              "      <td>updated_at_d</td>\n",
              "      <td>5.022731e+02</td>\n",
              "    </tr>\n",
              "  </tbody>\n",
              "</table>\n",
              "</div>"
            ],
            "text/plain": [
              "                 Specs         Score\n",
              "0                   ID  1.768104e+06\n",
              "1            ID_status  3.928703e+00\n",
              "2               active  1.168790e+01\n",
              "3       count_reassign  1.677602e+02\n",
              "4        count_opening  3.839474e+01\n",
              "5        count_updated  1.222077e+03\n",
              "6            ID_caller  2.265937e+03\n",
              "7            opened_by  3.078620e+04\n",
              "8           Created_by  3.923304e+04\n",
              "9           updated_by  7.767713e+03\n",
              "10        type_contact  8.868066e-02\n",
              "11            location  2.617487e+02\n",
              "12         category_ID  5.038379e+01\n",
              "13        user_symptom  9.649329e+03\n",
              "14       Support_group  1.207697e+03\n",
              "15    support_incharge  7.280527e+03\n",
              "16       Doc_knowledge  7.261787e+02\n",
              "17  confirmation_check  9.078740e+01\n",
              "18              notify  4.667886e+00\n",
              "19       opened_time_d  9.264918e+02\n",
              "20        created_at_d  8.327640e+02\n",
              "21        updated_at_d  5.022731e+02"
            ]
          },
          "metadata": {
            "tags": []
          },
          "execution_count": 30
        }
      ]
    },
    {
      "cell_type": "code",
      "metadata": {
        "id": "I_q9e2nykqrB",
        "colab_type": "code",
        "outputId": "487be8a4-67a2-45ea-98b0-89f06e637925",
        "colab": {
          "base_uri": "https://localhost:8080/",
          "height": 487
        }
      },
      "source": [
        "#Select Top 20\n",
        "print(featureScores.nlargest(20,'Score'))  #drop ID_status , type_contact\n",
        "train.columns"
      ],
      "execution_count": 0,
      "outputs": [
        {
          "output_type": "stream",
          "text": [
            "                 Specs         Score\n",
            "0                   ID  1.768104e+06\n",
            "8           Created_by  3.923304e+04\n",
            "7            opened_by  3.078620e+04\n",
            "13        user_symptom  9.649329e+03\n",
            "9           updated_by  7.767713e+03\n",
            "15    support_incharge  7.280527e+03\n",
            "6            ID_caller  2.265937e+03\n",
            "5        count_updated  1.222077e+03\n",
            "14       Support_group  1.207697e+03\n",
            "19       opened_time_d  9.264918e+02\n",
            "20        created_at_d  8.327640e+02\n",
            "16       Doc_knowledge  7.261787e+02\n",
            "21        updated_at_d  5.022731e+02\n",
            "11            location  2.617487e+02\n",
            "3       count_reassign  1.677602e+02\n",
            "17  confirmation_check  9.078740e+01\n",
            "12         category_ID  5.038379e+01\n",
            "4        count_opening  3.839474e+01\n",
            "2               active  1.168790e+01\n",
            "18              notify  4.667886e+00\n"
          ],
          "name": "stdout"
        },
        {
          "output_type": "execute_result",
          "data": {
            "text/plain": [
              "Index(['ID', 'ID_status', 'active', 'count_reassign', 'count_opening',\n",
              "       'count_updated', 'ID_caller', 'opened_by', 'Created_by', 'updated_by',\n",
              "       'type_contact', 'location', 'category_ID', 'user_symptom',\n",
              "       'Support_group', 'support_incharge', 'Doc_knowledge',\n",
              "       'confirmation_check', 'impact', 'notify', 'opened_time_d',\n",
              "       'created_at_d', 'updated_at_d'],\n",
              "      dtype='object')"
            ]
          },
          "metadata": {
            "tags": []
          },
          "execution_count": 31
        }
      ]
    },
    {
      "cell_type": "markdown",
      "metadata": {
        "id": "1c-IhDYwlsbj",
        "colab_type": "text"
      },
      "source": [
        "\n",
        "# **Feature Importance**\n",
        "\n",
        "You can get the feature importance of each feature of your dataset by using the feature importance property of the model.\n",
        "\n",
        "Feature importance gives you a score for each feature of your data, the higher the score more important or relevant is the feature towards your output variable.\n",
        "\n",
        "Feature importance is an inbuilt class that comes with Tree Based Classifiers, we will be using Extra Tree Classifier for extracting the top 10 features for the dataset."
      ]
    },
    {
      "cell_type": "code",
      "metadata": {
        "id": "DUAJiVy3k23x",
        "colab_type": "code",
        "outputId": "816ab07b-bcd1-4d00-9931-228ac57c50c0",
        "colab": {
          "base_uri": "https://localhost:8080/",
          "height": 128
        }
      },
      "source": [
        "from sklearn.ensemble import  ExtraTreesClassifier\n",
        "import matplotlib.pyplot as plt\n",
        "model = ExtraTreesClassifier()\n",
        "model.fit(X,y)"
      ],
      "execution_count": 0,
      "outputs": [
        {
          "output_type": "error",
          "ename": "SyntaxError",
          "evalue": "ignored",
          "traceback": [
            "\u001b[0;36m  File \u001b[0;32m\"<ipython-input-32-b295fce4a593>\"\u001b[0;36m, line \u001b[0;32m1\u001b[0m\n\u001b[0;31m    from sklearn.ensemble import\u001b[0m\n\u001b[0m                                  ^\u001b[0m\n\u001b[0;31mSyntaxError\u001b[0m\u001b[0;31m:\u001b[0m invalid syntax\n"
          ]
        }
      ]
    },
    {
      "cell_type": "code",
      "metadata": {
        "id": "jNYrfWntmCis",
        "colab_type": "code",
        "outputId": "81856777-6a2a-492b-b89c-ff8073badfcd",
        "colab": {
          "base_uri": "https://localhost:8080/",
          "height": 162
        }
      },
      "source": [
        "print(model.feature_importances_) #use inbuilt class feature_importances of tree based classifiers"
      ],
      "execution_count": 0,
      "outputs": [
        {
          "output_type": "error",
          "ename": "NameError",
          "evalue": "ignored",
          "traceback": [
            "\u001b[0;31m---------------------------------------------------------------------------\u001b[0m",
            "\u001b[0;31mNameError\u001b[0m                                 Traceback (most recent call last)",
            "\u001b[0;32m<ipython-input-33-9b751c413309>\u001b[0m in \u001b[0;36m<module>\u001b[0;34m()\u001b[0m\n\u001b[0;32m----> 1\u001b[0;31m \u001b[0mprint\u001b[0m\u001b[0;34m(\u001b[0m\u001b[0mmodel\u001b[0m\u001b[0;34m.\u001b[0m\u001b[0mfeature_importances_\u001b[0m\u001b[0;34m)\u001b[0m \u001b[0;31m#use inbuilt class feature_importances of tree based classifiers\u001b[0m\u001b[0;34m\u001b[0m\u001b[0;34m\u001b[0m\u001b[0m\n\u001b[0m",
            "\u001b[0;31mNameError\u001b[0m: name 'model' is not defined"
          ]
        }
      ]
    },
    {
      "cell_type": "code",
      "metadata": {
        "id": "WxPKPUj5mFZg",
        "colab_type": "code",
        "colab": {}
      },
      "source": [
        "#plot graph of feature importances for better visualization\n",
        "feat_importances = pd.Series(model.feature_importances_, index=X.columns)\n",
        "feat_importances.nlargest(20).plot(kind='barh')\n",
        "plt.show()"
      ],
      "execution_count": 0,
      "outputs": []
    },
    {
      "cell_type": "markdown",
      "metadata": {
        "id": "H3iXEFIWmTmY",
        "colab_type": "text"
      },
      "source": [
        "# **Correlation Matrix with Heatmap**\n",
        "\n",
        "Correlation states how the features are related to each other or the target variable.\n",
        "\n",
        "Correlation can be positive (increase in one value of feature increases the value of the target variable) or negative (increase in one value of feature decreases the value of the target variable)\n",
        "\n",
        "Heatmap makes it easy to identify which features are most related to the target variable, we will plot heatmap of correlated features using the seaborn library."
      ]
    },
    {
      "cell_type": "code",
      "metadata": {
        "id": "S8wEqepNmHyi",
        "colab_type": "code",
        "outputId": "0d3449c9-4266-4529-f4cf-701a492acba4",
        "colab": {
          "base_uri": "https://localhost:8080/",
          "height": 1000
        }
      },
      "source": [
        "import seaborn as sns\n",
        "#get correlations of each features in dataset\n",
        "corrmat = train.corr()\n",
        "top_corr_features = corrmat.index\n",
        "plt.figure(figsize=(20,20))\n",
        "#plot heat map\n",
        "g=sns.heatmap(train[top_corr_features].corr(),annot=True,cmap=\"RdYlGn\")"
      ],
      "execution_count": 0,
      "outputs": [
        {
          "output_type": "display_data",
          "data": {
            "image/png": "[encoded data removed]",
            "text/plain": [
              "<Figure size 1440x1440 with 2 Axes>"
            ]
          },
          "metadata": {
            "tags": []
          }
        }
      ]
    },
    {
      "cell_type": "code",
      "metadata": {
        "id": "JLV2pxM_mj8U",
        "colab_type": "code",
        "colab": {}
      },
      "source": [
        "train=train.drop(['ID_status' , 'type_contact'],axis=1)\n",
        "test=test.drop(['ID_status' , 'type_contact'],axis=1)"
      ],
      "execution_count": 0,
      "outputs": []
    },
    {
      "cell_type": "code",
      "metadata": {
        "id": "Ndu-J5C706bc",
        "colab_type": "code",
        "colab": {}
      },
      "source": [
        "from sklearn.model_selection import StratifiedShuffleSplit as sss\n",
        "split = sss(n_splits = 5, test_size = 0.2 , random_state = 42)\n",
        "for train_index , test_index in split.split(train, train['impact']):\n",
        "    train_x = train.loc[train_index]\n",
        "    train_y = train.loc[test_index]"
      ],
      "execution_count": 0,
      "outputs": []
    },
    {
      "cell_type": "code",
      "metadata": {
        "id": "pXIV76ZG1LW3",
        "colab_type": "code",
        "colab": {}
      },
      "source": [
        "y = train_x['impact']\n",
        "X = train_x.drop(['impact'], axis = 1)\n",
        "\n",
        "y_t = train_y['impact']\n",
        "X_t = train_y.drop(['impact'], axis = 1)"
      ],
      "execution_count": 0,
      "outputs": []
    },
    {
      "cell_type": "code",
      "metadata": {
        "id": "oz5cRy9r70MI",
        "colab_type": "code",
        "outputId": "d2ef53a2-3fc5-423c-b116-7a4f5f9d87d7",
        "colab": {
          "base_uri": "https://localhost:8080/",
          "height": 422
        }
      },
      "source": [
        ""
      ],
      "execution_count": 0,
      "outputs": [
        {
          "output_type": "execute_result",
          "data": {
            "text/html": [
              "<div>\n",
              "<style scoped>\n",
              "    .dataframe tbody tr th:only-of-type {\n",
              "        vertical-align: middle;\n",
              "    }\n",
              "\n",
              "    .dataframe tbody tr th {\n",
              "        vertical-align: top;\n",
              "    }\n",
              "\n",
              "    .dataframe thead th {\n",
              "        text-align: right;\n",
              "    }\n",
              "</style>\n",
              "<table border=\"1\" class=\"dataframe\">\n",
              "  <thead>\n",
              "    <tr style=\"text-align: right;\">\n",
              "      <th></th>\n",
              "      <th>ID</th>\n",
              "      <th>active</th>\n",
              "      <th>count_reassign</th>\n",
              "      <th>count_opening</th>\n",
              "      <th>count_updated</th>\n",
              "      <th>ID_caller</th>\n",
              "      <th>opened_by</th>\n",
              "      <th>Created_by</th>\n",
              "      <th>updated_by</th>\n",
              "      <th>location</th>\n",
              "      <th>category_ID</th>\n",
              "      <th>user_symptom</th>\n",
              "      <th>Support_group</th>\n",
              "      <th>support_incharge</th>\n",
              "      <th>Doc_knowledge</th>\n",
              "      <th>confirmation_check</th>\n",
              "      <th>notify</th>\n",
              "      <th>opened_time_d</th>\n",
              "      <th>created_at_d</th>\n",
              "      <th>updated_at_d</th>\n",
              "    </tr>\n",
              "  </thead>\n",
              "  <tbody>\n",
              "    <tr>\n",
              "      <th>25628</th>\n",
              "      <td>5172</td>\n",
              "      <td>1</td>\n",
              "      <td>3</td>\n",
              "      <td>0</td>\n",
              "      <td>13</td>\n",
              "      <td>4223</td>\n",
              "      <td>15</td>\n",
              "      <td>155</td>\n",
              "      <td>612</td>\n",
              "      <td>218</td>\n",
              "      <td>14</td>\n",
              "      <td>358</td>\n",
              "      <td>14</td>\n",
              "      <td>120</td>\n",
              "      <td>0</td>\n",
              "      <td>0</td>\n",
              "      <td>0</td>\n",
              "      <td>17</td>\n",
              "      <td>17</td>\n",
              "      <td>23</td>\n",
              "    </tr>\n",
              "    <tr>\n",
              "      <th>47436</th>\n",
              "      <td>10614</td>\n",
              "      <td>1</td>\n",
              "      <td>0</td>\n",
              "      <td>0</td>\n",
              "      <td>0</td>\n",
              "      <td>2380</td>\n",
              "      <td>189</td>\n",
              "      <td>125</td>\n",
              "      <td>26</td>\n",
              "      <td>222</td>\n",
              "      <td>43</td>\n",
              "      <td>0</td>\n",
              "      <td>0</td>\n",
              "      <td>167</td>\n",
              "      <td>0</td>\n",
              "      <td>0</td>\n",
              "      <td>0</td>\n",
              "      <td>4</td>\n",
              "      <td>4</td>\n",
              "      <td>4</td>\n",
              "    </tr>\n",
              "    <tr>\n",
              "      <th>93067</th>\n",
              "      <td>22961</td>\n",
              "      <td>1</td>\n",
              "      <td>0</td>\n",
              "      <td>0</td>\n",
              "      <td>1</td>\n",
              "      <td>1337</td>\n",
              "      <td>32</td>\n",
              "      <td>0</td>\n",
              "      <td>286</td>\n",
              "      <td>44</td>\n",
              "      <td>13</td>\n",
              "      <td>328</td>\n",
              "      <td>11</td>\n",
              "      <td>0</td>\n",
              "      <td>0</td>\n",
              "      <td>0</td>\n",
              "      <td>0</td>\n",
              "      <td>24</td>\n",
              "      <td>31</td>\n",
              "      <td>24</td>\n",
              "    </tr>\n",
              "    <tr>\n",
              "      <th>67131</th>\n",
              "      <td>15870</td>\n",
              "      <td>0</td>\n",
              "      <td>1</td>\n",
              "      <td>0</td>\n",
              "      <td>6</td>\n",
              "      <td>3609</td>\n",
              "      <td>123</td>\n",
              "      <td>86</td>\n",
              "      <td>681</td>\n",
              "      <td>44</td>\n",
              "      <td>16</td>\n",
              "      <td>358</td>\n",
              "      <td>19</td>\n",
              "      <td>211</td>\n",
              "      <td>0</td>\n",
              "      <td>1</td>\n",
              "      <td>0</td>\n",
              "      <td>27</td>\n",
              "      <td>27</td>\n",
              "      <td>5</td>\n",
              "    </tr>\n",
              "    <tr>\n",
              "      <th>69112</th>\n",
              "      <td>16436</td>\n",
              "      <td>1</td>\n",
              "      <td>0</td>\n",
              "      <td>0</td>\n",
              "      <td>0</td>\n",
              "      <td>1327</td>\n",
              "      <td>5</td>\n",
              "      <td>0</td>\n",
              "      <td>681</td>\n",
              "      <td>222</td>\n",
              "      <td>34</td>\n",
              "      <td>358</td>\n",
              "      <td>41</td>\n",
              "      <td>0</td>\n",
              "      <td>0</td>\n",
              "      <td>0</td>\n",
              "      <td>0</td>\n",
              "      <td>28</td>\n",
              "      <td>31</td>\n",
              "      <td>28</td>\n",
              "    </tr>\n",
              "    <tr>\n",
              "      <th>...</th>\n",
              "      <td>...</td>\n",
              "      <td>...</td>\n",
              "      <td>...</td>\n",
              "      <td>...</td>\n",
              "      <td>...</td>\n",
              "      <td>...</td>\n",
              "      <td>...</td>\n",
              "      <td>...</td>\n",
              "      <td>...</td>\n",
              "      <td>...</td>\n",
              "      <td>...</td>\n",
              "      <td>...</td>\n",
              "      <td>...</td>\n",
              "      <td>...</td>\n",
              "      <td>...</td>\n",
              "      <td>...</td>\n",
              "      <td>...</td>\n",
              "      <td>...</td>\n",
              "      <td>...</td>\n",
              "      <td>...</td>\n",
              "    </tr>\n",
              "    <tr>\n",
              "      <th>6565</th>\n",
              "      <td>1331</td>\n",
              "      <td>1</td>\n",
              "      <td>7</td>\n",
              "      <td>0</td>\n",
              "      <td>38</td>\n",
              "      <td>4935</td>\n",
              "      <td>0</td>\n",
              "      <td>179</td>\n",
              "      <td>121</td>\n",
              "      <td>218</td>\n",
              "      <td>24</td>\n",
              "      <td>0</td>\n",
              "      <td>14</td>\n",
              "      <td>203</td>\n",
              "      <td>1</td>\n",
              "      <td>1</td>\n",
              "      <td>0</td>\n",
              "      <td>3</td>\n",
              "      <td>3</td>\n",
              "      <td>31</td>\n",
              "    </tr>\n",
              "    <tr>\n",
              "      <th>72056</th>\n",
              "      <td>17257</td>\n",
              "      <td>1</td>\n",
              "      <td>1</td>\n",
              "      <td>0</td>\n",
              "      <td>2</td>\n",
              "      <td>4916</td>\n",
              "      <td>5</td>\n",
              "      <td>144</td>\n",
              "      <td>286</td>\n",
              "      <td>60</td>\n",
              "      <td>47</td>\n",
              "      <td>185</td>\n",
              "      <td>15</td>\n",
              "      <td>221</td>\n",
              "      <td>0</td>\n",
              "      <td>0</td>\n",
              "      <td>0</td>\n",
              "      <td>5</td>\n",
              "      <td>5</td>\n",
              "      <td>5</td>\n",
              "    </tr>\n",
              "    <tr>\n",
              "      <th>94308</th>\n",
              "      <td>23288</td>\n",
              "      <td>1</td>\n",
              "      <td>0</td>\n",
              "      <td>0</td>\n",
              "      <td>1</td>\n",
              "      <td>251</td>\n",
              "      <td>32</td>\n",
              "      <td>0</td>\n",
              "      <td>511</td>\n",
              "      <td>105</td>\n",
              "      <td>36</td>\n",
              "      <td>0</td>\n",
              "      <td>58</td>\n",
              "      <td>78</td>\n",
              "      <td>0</td>\n",
              "      <td>0</td>\n",
              "      <td>0</td>\n",
              "      <td>25</td>\n",
              "      <td>31</td>\n",
              "      <td>25</td>\n",
              "    </tr>\n",
              "    <tr>\n",
              "      <th>95722</th>\n",
              "      <td>23685</td>\n",
              "      <td>1</td>\n",
              "      <td>0</td>\n",
              "      <td>0</td>\n",
              "      <td>2</td>\n",
              "      <td>3251</td>\n",
              "      <td>32</td>\n",
              "      <td>2</td>\n",
              "      <td>303</td>\n",
              "      <td>105</td>\n",
              "      <td>43</td>\n",
              "      <td>358</td>\n",
              "      <td>16</td>\n",
              "      <td>28</td>\n",
              "      <td>0</td>\n",
              "      <td>1</td>\n",
              "      <td>0</td>\n",
              "      <td>30</td>\n",
              "      <td>30</td>\n",
              "      <td>6</td>\n",
              "    </tr>\n",
              "    <tr>\n",
              "      <th>28185</th>\n",
              "      <td>5758</td>\n",
              "      <td>1</td>\n",
              "      <td>0</td>\n",
              "      <td>0</td>\n",
              "      <td>0</td>\n",
              "      <td>5117</td>\n",
              "      <td>201</td>\n",
              "      <td>0</td>\n",
              "      <td>681</td>\n",
              "      <td>27</td>\n",
              "      <td>18</td>\n",
              "      <td>358</td>\n",
              "      <td>63</td>\n",
              "      <td>195</td>\n",
              "      <td>0</td>\n",
              "      <td>0</td>\n",
              "      <td>0</td>\n",
              "      <td>19</td>\n",
              "      <td>31</td>\n",
              "      <td>19</td>\n",
              "    </tr>\n",
              "  </tbody>\n",
              "</table>\n",
              "<p>79358 rows × 20 columns</p>\n",
              "</div>"
            ],
            "text/plain": [
              "          ID  active  count_reassign  ...  opened_time_d  created_at_d  updated_at_d\n",
              "25628   5172       1               3  ...             17            17            23\n",
              "47436  10614       1               0  ...              4             4             4\n",
              "93067  22961       1               0  ...             24            31            24\n",
              "67131  15870       0               1  ...             27            27             5\n",
              "69112  16436       1               0  ...             28            31            28\n",
              "...      ...     ...             ...  ...            ...           ...           ...\n",
              "6565    1331       1               7  ...              3             3            31\n",
              "72056  17257       1               1  ...              5             5             5\n",
              "94308  23288       1               0  ...             25            31            25\n",
              "95722  23685       1               0  ...             30            30             6\n",
              "28185   5758       1               0  ...             19            31            19\n",
              "\n",
              "[79358 rows x 20 columns]"
            ]
          },
          "metadata": {
            "tags": []
          },
          "execution_count": 37
        }
      ]
    },
    {
      "cell_type": "code",
      "metadata": {
        "id": "sEg_TC4V1Oi7",
        "colab_type": "code",
        "colab": {}
      },
      "source": [
        "from sklearn.neighbors import KNeighborsClassifier as KNC\n",
        "acc= []\n",
        "for i in range(1,21,2):\n",
        "    neigh = KNC(n_neighbors = i)\n",
        "    neigh.fit(X,y)\n",
        "    train_acc = np.mean(neigh.predict(X) == y)\n",
        "    test_acc = np.mean(neigh.predict(X_t) == y_t)\n",
        "    acc.append([train_acc, test_acc])"
      ],
      "execution_count": 0,
      "outputs": []
    },
    {
      "cell_type": "code",
      "metadata": {
        "id": "gqW7lMXd1Qdr",
        "colab_type": "code",
        "outputId": "50fccab3-517f-4fa5-ae97-eab8c6ef1a12",
        "colab": {
          "base_uri": "https://localhost:8080/",
          "height": 282
        }
      },
      "source": [
        "plt.plot(np.arange(1,21,2),[i[0] for i in acc], \"bo-\")\n",
        "plt.plot(np.arange(1,21,2), [i[1] for i in acc], \"ro-\")\n",
        "plt.legend([\"train\",\"test\"])"
      ],
      "execution_count": 0,
      "outputs": [
        {
          "output_type": "execute_result",
          "data": {
            "text/plain": [
              "<matplotlib.legend.Legend at 0x7fa51a284f98>"
            ]
          },
          "metadata": {
            "tags": []
          },
          "execution_count": 68
        },
        {
          "output_type": "display_data",
          "data": {
            "image/png": "[encoded data removed]",
            "text/plain": [
              "<Figure size 432x288 with 1 Axes>"
            ]
          },
          "metadata": {
            "tags": []
          }
        }
      ]
    },
    {
      "cell_type": "code",
      "metadata": {
        "id": "L2gKPXoV10Zl",
        "colab_type": "code",
        "outputId": "a8ce8d80-8f02-4015-980c-f9ff69e35a95",
        "colab": {
          "base_uri": "https://localhost:8080/",
          "height": 34
        }
      },
      "source": [
        "near15 = KNC(n_neighbors = 15)\n",
        "near15.fit(X, y)\n",
        "train_acc15 = np.mean(near15.predict(X) == y)\n",
        "train_acc15   #0.9533"
      ],
      "execution_count": 0,
      "outputs": [
        {
          "output_type": "execute_result",
          "data": {
            "text/plain": [
              "0.953741273721616"
            ]
          },
          "metadata": {
            "tags": []
          },
          "execution_count": 69
        }
      ]
    },
    {
      "cell_type": "code",
      "metadata": {
        "id": "ZeNoUBVy1-WY",
        "colab_type": "code",
        "outputId": "8ed85935-6113-4e02-9b2f-603c11db5804",
        "colab": {
          "base_uri": "https://localhost:8080/",
          "height": 34
        }
      },
      "source": [
        "test_acc15 = np.mean(near15.predict(X_t)== y_t)\n",
        "test_acc15  #0.9510"
      ],
      "execution_count": 0,
      "outputs": [
        {
          "output_type": "execute_result",
          "data": {
            "text/plain": [
              "0.9508064516129032"
            ]
          },
          "metadata": {
            "tags": []
          },
          "execution_count": 70
        }
      ]
    },
    {
      "cell_type": "code",
      "metadata": {
        "id": "2dbvRy7j2IQo",
        "colab_type": "code",
        "outputId": "57d76aca-e19d-4b19-849a-593314212dae",
        "colab": {
          "base_uri": "https://localhost:8080/",
          "height": 235
        }
      },
      "source": [
        "from sklearn.metrics import confusion_matrix, recall_score, precision_score , f1_score  , classification_report , accuracy_score\n",
        "pred = near15.predict(X_t)\n",
        "print(confusion_matrix(pred, y_t))\n",
        "print(classification_report(pred, y_t))"
      ],
      "execution_count": 0,
      "outputs": [
        {
          "output_type": "stream",
          "text": [
            "[[   47    35     1]\n",
            " [  442 18724   450]\n",
            " [    0    48    93]]\n",
            "              precision    recall  f1-score   support\n",
            "\n",
            "           0       0.10      0.57      0.16        83\n",
            "           1       1.00      0.95      0.97     19616\n",
            "           2       0.17      0.66      0.27       141\n",
            "\n",
            "    accuracy                           0.95     19840\n",
            "   macro avg       0.42      0.73      0.47     19840\n",
            "weighted avg       0.99      0.95      0.97     19840\n",
            "\n"
          ],
          "name": "stdout"
        }
      ]
    },
    {
      "cell_type": "code",
      "metadata": {
        "id": "xCzr2h7i2WHZ",
        "colab_type": "code",
        "outputId": "a9ff3b3e-2357-44c0-e38d-1308a7bd793c",
        "colab": {
          "base_uri": "https://localhost:8080/",
          "height": 151
        }
      },
      "source": [
        "from sklearn.ensemble import RandomForestClassifier\n",
        "RFmodel = RandomForestClassifier(n_jobs = 2, oob_score=True , n_estimators = 100, criterion = 'entropy')\n",
        "RFmodel.fit(X , y)"
      ],
      "execution_count": 0,
      "outputs": [
        {
          "output_type": "execute_result",
          "data": {
            "text/plain": [
              "RandomForestClassifier(bootstrap=True, ccp_alpha=0.0, class_weight=None,\n",
              "                       criterion='entropy', max_depth=None, max_features='auto',\n",
              "                       max_leaf_nodes=None, max_samples=None,\n",
              "                       min_impurity_decrease=0.0, min_impurity_split=None,\n",
              "                       min_samples_leaf=1, min_samples_split=2,\n",
              "                       min_weight_fraction_leaf=0.0, n_estimators=100, n_jobs=2,\n",
              "                       oob_score=True, random_state=None, verbose=0,\n",
              "                       warm_start=False)"
            ]
          },
          "metadata": {
            "tags": []
          },
          "execution_count": 45
        }
      ]
    },
    {
      "cell_type": "code",
      "metadata": {
        "id": "BAJK4KwQ3GMO",
        "colab_type": "code",
        "outputId": "72fd9174-3414-4617-c983-b92981d11bcf",
        "colab": {
          "base_uri": "https://localhost:8080/",
          "height": 67
        }
      },
      "source": [
        "X_t['pred'] = RFmodel.predict(X_t)\n",
        "from sklearn.metrics import confusion_matrix, recall_score, precision_score , f1_score  , classification_report , accuracy_score\n",
        "confusion_matrix(y_t , X_t['pred'])"
      ],
      "execution_count": 0,
      "outputs": [
        {
          "output_type": "execute_result",
          "data": {
            "text/plain": [
              "array([[  275,   214,     0],\n",
              "       [   13, 18771,    23],\n",
              "       [    1,   122,   421]])"
            ]
          },
          "metadata": {
            "tags": []
          },
          "execution_count": 49
        }
      ]
    },
    {
      "cell_type": "code",
      "metadata": {
        "id": "oHt1wVzK3hRz",
        "colab_type": "code",
        "colab": {}
      },
      "source": [
        "def get_metrics(y_test, y_predicted):\n",
        "    accuracy = accuracy_score(y_test, y_predicted)\n",
        "    precision = precision_score(y_test, y_predicted, average='weighted')\n",
        "    recall = recall_score(y_test, y_predicted, average='weighted')\n",
        "    f1 = f1_score(y_test, y_predicted, average='weighted')\n",
        "    return accuracy, precision, recall, f1\n",
        "accuracy, precision, recall, f1 = get_metrics(y_t , X_t['pred'])\n",
        "print(\"accuracy = %.3f \\nprecision = %.3f \\nrecall = %.3f \\nf1 = %.3f\" % (accuracy, precision, recall, f1))  #0.981"
      ],
      "execution_count": 0,
      "outputs": []
    },
    {
      "cell_type": "code",
      "metadata": {
        "id": "gUQq9Ndo3qdm",
        "colab_type": "code",
        "outputId": "8a7b7b5c-135d-406f-b286-89758b959814",
        "colab": {
          "base_uri": "https://localhost:8080/",
          "height": 235
        }
      },
      "source": [
        "print(confusion_matrix(y_t , X_t['pred']))\n",
        "print(classification_report(y_t , X_t['pred']))  #98"
      ],
      "execution_count": 0,
      "outputs": [
        {
          "output_type": "stream",
          "text": [
            "[[  275   214     0]\n",
            " [   13 18771    23]\n",
            " [    1   122   421]]\n",
            "              precision    recall  f1-score   support\n",
            "\n",
            "           0       0.95      0.56      0.71       489\n",
            "           1       0.98      1.00      0.99     18807\n",
            "           2       0.95      0.77      0.85       544\n",
            "\n",
            "    accuracy                           0.98     19840\n",
            "   macro avg       0.96      0.78      0.85     19840\n",
            "weighted avg       0.98      0.98      0.98     19840\n",
            "\n"
          ],
          "name": "stdout"
        }
      ]
    },
    {
      "cell_type": "code",
      "metadata": {
        "id": "WzLjcyA13uN6",
        "colab_type": "code",
        "outputId": "31357491-05c4-49ea-9dd5-2d911e63b387",
        "colab": {
          "base_uri": "https://localhost:8080/",
          "height": 134
        }
      },
      "source": [
        "# Fitting XGBoost to the Training set\n",
        "import xgboost\n",
        "classifier = xgboost.XGBClassifier()\n",
        "classifier.fit(X, y)\n"
      ],
      "execution_count": 0,
      "outputs": [
        {
          "output_type": "execute_result",
          "data": {
            "text/plain": [
              "XGBClassifier(base_score=0.5, booster='gbtree', colsample_bylevel=1,\n",
              "              colsample_bynode=1, colsample_bytree=1, gamma=0,\n",
              "              learning_rate=0.1, max_delta_step=0, max_depth=3,\n",
              "              min_child_weight=1, missing=None, n_estimators=100, n_jobs=1,\n",
              "              nthread=None, objective='multi:softprob', random_state=0,\n",
              "              reg_alpha=0, reg_lambda=1, scale_pos_weight=1, seed=None,\n",
              "              silent=None, subsample=1, verbosity=1)"
            ]
          },
          "metadata": {
            "tags": []
          },
          "execution_count": 80
        }
      ]
    },
    {
      "cell_type": "code",
      "metadata": {
        "id": "0h0bZA8m4FSr",
        "colab_type": "code",
        "outputId": "3c95e188-871b-4057-ab11-e0d0292d7212",
        "colab": {
          "base_uri": "https://localhost:8080/",
          "height": 67
        }
      },
      "source": [
        "# Predicting the Test set results\n",
        "y_pred = classifier.predict(X_t)\n",
        "# Making the Confusion Matrix\n",
        "from sklearn.metrics import confusion_matrix\n",
        "cm = confusion_matrix(y_t, y_pred)\n",
        "cm"
      ],
      "execution_count": 0,
      "outputs": [
        {
          "output_type": "execute_result",
          "data": {
            "text/plain": [
              "array([[    8,   478,     3],\n",
              "       [    0, 18784,    23],\n",
              "       [    0,   461,    83]])"
            ]
          },
          "metadata": {
            "tags": []
          },
          "execution_count": 81
        }
      ]
    },
    {
      "cell_type": "code",
      "metadata": {
        "id": "yNERMgta4K9t",
        "colab_type": "code",
        "outputId": "4417a4b9-fc95-4fda-c8dd-8449525209b6",
        "colab": {
          "base_uri": "https://localhost:8080/",
          "height": 252
        }
      },
      "source": [
        "from sklearn.metrics import confusion_matrix, recall_score, precision_score , f1_score  , classification_report , accuracy_score\n",
        "print(confusion_matrix(y_t , y_pred))\n",
        "print(classification_report(y_t , y_pred))\n",
        "print(accuracy_score(y_t , y_pred))  #0.9521"
      ],
      "execution_count": 0,
      "outputs": [
        {
          "output_type": "stream",
          "text": [
            "[[    8   478     3]\n",
            " [    0 18784    23]\n",
            " [    0   461    83]]\n",
            "              precision    recall  f1-score   support\n",
            "\n",
            "           0       1.00      0.02      0.03       489\n",
            "           1       0.95      1.00      0.98     18807\n",
            "           2       0.76      0.15      0.25       544\n",
            "\n",
            "    accuracy                           0.95     19840\n",
            "   macro avg       0.90      0.39      0.42     19840\n",
            "weighted avg       0.95      0.95      0.93     19840\n",
            "\n",
            "0.9513608870967742\n"
          ],
          "name": "stdout"
        }
      ]
    },
    {
      "cell_type": "code",
      "metadata": {
        "id": "9zKLESV54Qef",
        "colab_type": "code",
        "outputId": "5c57bb28-6635-479e-8c16-b3816414752d",
        "colab": {
          "base_uri": "https://localhost:8080/",
          "height": 151
        }
      },
      "source": [
        "#select RF and build with Trian dataset\n",
        "y = train['impact']\n",
        "X = train.drop(['impact'], axis = 1)\n",
        "\n",
        "from sklearn.ensemble import RandomForestClassifier\n",
        "RFmodel = RandomForestClassifier(n_jobs = 2, oob_score=True , n_estimators = 100, criterion = 'entropy')\n",
        "RFmodel.fit(X , y)"
      ],
      "execution_count": 0,
      "outputs": [
        {
          "output_type": "execute_result",
          "data": {
            "text/plain": [
              "RandomForestClassifier(bootstrap=True, ccp_alpha=0.0, class_weight=None,\n",
              "                       criterion='entropy', max_depth=None, max_features='auto',\n",
              "                       max_leaf_nodes=None, max_samples=None,\n",
              "                       min_impurity_decrease=0.0, min_impurity_split=None,\n",
              "                       min_samples_leaf=1, min_samples_split=2,\n",
              "                       min_weight_fraction_leaf=0.0, n_estimators=100, n_jobs=2,\n",
              "                       oob_score=True, random_state=None, verbose=0,\n",
              "                       warm_start=False)"
            ]
          },
          "metadata": {
            "tags": []
          },
          "execution_count": 83
        }
      ]
    },
    {
      "cell_type": "code",
      "metadata": {
        "id": "GJybhowG5D57",
        "colab_type": "code",
        "colab": {}
      },
      "source": [
        "pred = RFmodel.predict(test)\n",
        "pred = pd.DataFrame(pred)"
      ],
      "execution_count": 0,
      "outputs": []
    },
    {
      "cell_type": "code",
      "metadata": {
        "id": "7gQJscho53ST",
        "colab_type": "code",
        "outputId": "f790a5e5-287e-46d3-da1e-71c1e1e66ec5",
        "colab": {
          "base_uri": "https://localhost:8080/",
          "height": 402
        }
      },
      "source": [
        "sub_df=pd.read_csv('/content/drive/My Drive/Incident/Sample Submission.csv')\n",
        "sub_df"
      ],
      "execution_count": 0,
      "outputs": [
        {
          "output_type": "execute_result",
          "data": {
            "text/html": [
              "<div>\n",
              "<style scoped>\n",
              "    .dataframe tbody tr th:only-of-type {\n",
              "        vertical-align: middle;\n",
              "    }\n",
              "\n",
              "    .dataframe tbody tr th {\n",
              "        vertical-align: top;\n",
              "    }\n",
              "\n",
              "    .dataframe thead th {\n",
              "        text-align: right;\n",
              "    }\n",
              "</style>\n",
              "<table border=\"1\" class=\"dataframe\">\n",
              "  <thead>\n",
              "    <tr style=\"text-align: right;\">\n",
              "      <th></th>\n",
              "      <th>ID</th>\n",
              "      <th>prediction1</th>\n",
              "    </tr>\n",
              "  </thead>\n",
              "  <tbody>\n",
              "    <tr>\n",
              "      <th>0</th>\n",
              "      <td>1</td>\n",
              "      <td>2 - Medium</td>\n",
              "    </tr>\n",
              "    <tr>\n",
              "      <th>1</th>\n",
              "      <td>2</td>\n",
              "      <td>2 - Medium</td>\n",
              "    </tr>\n",
              "    <tr>\n",
              "      <th>2</th>\n",
              "      <td>3</td>\n",
              "      <td>2 - Medium</td>\n",
              "    </tr>\n",
              "    <tr>\n",
              "      <th>3</th>\n",
              "      <td>4</td>\n",
              "      <td>2 - Medium</td>\n",
              "    </tr>\n",
              "    <tr>\n",
              "      <th>4</th>\n",
              "      <td>5</td>\n",
              "      <td>2 - Medium</td>\n",
              "    </tr>\n",
              "    <tr>\n",
              "      <th>...</th>\n",
              "      <td>...</td>\n",
              "      <td>...</td>\n",
              "    </tr>\n",
              "    <tr>\n",
              "      <th>42509</th>\n",
              "      <td>42510</td>\n",
              "      <td>3 - Low</td>\n",
              "    </tr>\n",
              "    <tr>\n",
              "      <th>42510</th>\n",
              "      <td>42511</td>\n",
              "      <td>3 - Low</td>\n",
              "    </tr>\n",
              "    <tr>\n",
              "      <th>42511</th>\n",
              "      <td>42512</td>\n",
              "      <td>3 - Low</td>\n",
              "    </tr>\n",
              "    <tr>\n",
              "      <th>42512</th>\n",
              "      <td>42513</td>\n",
              "      <td>3 - Low</td>\n",
              "    </tr>\n",
              "    <tr>\n",
              "      <th>42513</th>\n",
              "      <td>42514</td>\n",
              "      <td>2 - Medium</td>\n",
              "    </tr>\n",
              "  </tbody>\n",
              "</table>\n",
              "<p>42514 rows × 2 columns</p>\n",
              "</div>"
            ],
            "text/plain": [
              "          ID prediction1\n",
              "0          1  2 - Medium\n",
              "1          2  2 - Medium\n",
              "2          3  2 - Medium\n",
              "3          4  2 - Medium\n",
              "4          5  2 - Medium\n",
              "...      ...         ...\n",
              "42509  42510     3 - Low\n",
              "42510  42511     3 - Low\n",
              "42511  42512     3 - Low\n",
              "42512  42513     3 - Low\n",
              "42513  42514  2 - Medium\n",
              "\n",
              "[42514 rows x 2 columns]"
            ]
          },
          "metadata": {
            "tags": []
          },
          "execution_count": 95
        }
      ]
    },
    {
      "cell_type": "code",
      "metadata": {
        "id": "up_GHtQb52Ya",
        "colab_type": "code",
        "colab": {}
      },
      "source": [
        "datasets=pd.concat([sub_df['ID'],pred],axis=1)"
      ],
      "execution_count": 0,
      "outputs": []
    },
    {
      "cell_type": "code",
      "metadata": {
        "id": "iNU7_iNw6lvf",
        "colab_type": "code",
        "colab": {}
      },
      "source": [
        "datasets.columns=['Id','prediction1']\n",
        "prediction2 = { 1:'2 - Medium',\n",
        "                2:'3 - Low',\n",
        "                3:'1 - High',\n",
        "}\n",
        "datasets['prediction1'] = datasets.prediction1.map(prediction2)\n",
        "datasets.to_csv('/content/drive/My Drive/Incident/sample_RF.csv',index=False)      #---score= 0.9526"
      ],
      "execution_count": 0,
      "outputs": []
    },
    {
      "cell_type": "code",
      "metadata": {
        "id": "qblGhAmb9OCv",
        "colab_type": "code",
        "outputId": "d86addcb-8696-43e3-bcb3-9dfc24a533fe",
        "colab": {
          "base_uri": "https://localhost:8080/",
          "height": 402
        }
      },
      "source": [
        "datasets"
      ],
      "execution_count": 0,
      "outputs": [
        {
          "output_type": "execute_result",
          "data": {
            "text/html": [
              "<div>\n",
              "<style scoped>\n",
              "    .dataframe tbody tr th:only-of-type {\n",
              "        vertical-align: middle;\n",
              "    }\n",
              "\n",
              "    .dataframe tbody tr th {\n",
              "        vertical-align: top;\n",
              "    }\n",
              "\n",
              "    .dataframe thead th {\n",
              "        text-align: right;\n",
              "    }\n",
              "</style>\n",
              "<table border=\"1\" class=\"dataframe\">\n",
              "  <thead>\n",
              "    <tr style=\"text-align: right;\">\n",
              "      <th></th>\n",
              "      <th>Id</th>\n",
              "      <th>prediction1</th>\n",
              "    </tr>\n",
              "  </thead>\n",
              "  <tbody>\n",
              "    <tr>\n",
              "      <th>0</th>\n",
              "      <td>1</td>\n",
              "      <td>2 - Medium</td>\n",
              "    </tr>\n",
              "    <tr>\n",
              "      <th>1</th>\n",
              "      <td>2</td>\n",
              "      <td>2 - Medium</td>\n",
              "    </tr>\n",
              "    <tr>\n",
              "      <th>2</th>\n",
              "      <td>3</td>\n",
              "      <td>2 - Medium</td>\n",
              "    </tr>\n",
              "    <tr>\n",
              "      <th>3</th>\n",
              "      <td>4</td>\n",
              "      <td>2 - Medium</td>\n",
              "    </tr>\n",
              "    <tr>\n",
              "      <th>4</th>\n",
              "      <td>5</td>\n",
              "      <td>2 - Medium</td>\n",
              "    </tr>\n",
              "    <tr>\n",
              "      <th>...</th>\n",
              "      <td>...</td>\n",
              "      <td>...</td>\n",
              "    </tr>\n",
              "    <tr>\n",
              "      <th>42509</th>\n",
              "      <td>42510</td>\n",
              "      <td>2 - Medium</td>\n",
              "    </tr>\n",
              "    <tr>\n",
              "      <th>42510</th>\n",
              "      <td>42511</td>\n",
              "      <td>2 - Medium</td>\n",
              "    </tr>\n",
              "    <tr>\n",
              "      <th>42511</th>\n",
              "      <td>42512</td>\n",
              "      <td>2 - Medium</td>\n",
              "    </tr>\n",
              "    <tr>\n",
              "      <th>42512</th>\n",
              "      <td>42513</td>\n",
              "      <td>2 - Medium</td>\n",
              "    </tr>\n",
              "    <tr>\n",
              "      <th>42513</th>\n",
              "      <td>42514</td>\n",
              "      <td>2 - Medium</td>\n",
              "    </tr>\n",
              "  </tbody>\n",
              "</table>\n",
              "<p>42514 rows × 2 columns</p>\n",
              "</div>"
            ],
            "text/plain": [
              "          Id prediction1\n",
              "0          1  2 - Medium\n",
              "1          2  2 - Medium\n",
              "2          3  2 - Medium\n",
              "3          4  2 - Medium\n",
              "4          5  2 - Medium\n",
              "...      ...         ...\n",
              "42509  42510  2 - Medium\n",
              "42510  42511  2 - Medium\n",
              "42511  42512  2 - Medium\n",
              "42512  42513  2 - Medium\n",
              "42513  42514  2 - Medium\n",
              "\n",
              "[42514 rows x 2 columns]"
            ]
          },
          "metadata": {
            "tags": []
          },
          "execution_count": 98
        }
      ]
    },
    {
      "cell_type": "code",
      "metadata": {
        "id": "n3d2B0_c68AV",
        "colab_type": "code",
        "outputId": "ffdce6de-35cd-4d95-ec26-1554794ee2fa",
        "colab": {
          "base_uri": "https://localhost:8080/",
          "height": 67
        }
      },
      "source": [
        "datasets.prediction1.value_counts()\n"
      ],
      "execution_count": 0,
      "outputs": [
        {
          "output_type": "execute_result",
          "data": {
            "text/plain": [
              "2 - Medium    42261\n",
              "3 - Low         190\n",
              "Name: prediction1, dtype: int64"
            ]
          },
          "metadata": {
            "tags": []
          },
          "execution_count": 99
        }
      ]
    },
    {
      "cell_type": "code",
      "metadata": {
        "id": "PCXB2pVka7n3",
        "colab_type": "code",
        "colab": {}
      },
      "source": [
        ""
      ],
      "execution_count": 0,
      "outputs": []
    }
  ]
}