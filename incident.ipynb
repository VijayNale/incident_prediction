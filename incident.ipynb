{
 "cells": [
  {
   "cell_type": "markdown",
   "metadata": {},
   "source": [
    "## kaggle :-  https://www.kaggle.com/c/incident-impact-prediction/data\n",
    "\n",
    "#buisness problem : predict incident impact of cutomers : High, medium, low\n",
    "\n",
    "\"\"\"\"Data set Details\n",
    "The dataset is having incidents raised by customers.Which contains an event log of an incident management process extracted from a service desk platform of an IT company\"\"\"\"\n",
    "\n",
    "#Impact: Description of the impact caused by the incident (values: 1â€“High; 2â€“Medium; 3â€“Low)"
   ]
  },
  {
   "cell_type": "code",
   "execution_count": 1,
   "metadata": {},
   "outputs": [],
   "source": [
    "import pandas as pd\n",
    "import numpy as np\n",
    "import matplotlib.pyplot as plt\n",
    "import seaborn as sns"
   ]
  },
  {
   "cell_type": "code",
   "execution_count": 2,
   "metadata": {},
   "outputs": [
    {
     "data": {
      "text/html": [
       "<div>\n",
       "<style scoped>\n",
       "    .dataframe tbody tr th:only-of-type {\n",
       "        vertical-align: middle;\n",
       "    }\n",
       "\n",
       "    .dataframe tbody tr th {\n",
       "        vertical-align: top;\n",
       "    }\n",
       "\n",
       "    .dataframe thead th {\n",
       "        text-align: right;\n",
       "    }\n",
       "</style>\n",
       "<table border=\"1\" class=\"dataframe\">\n",
       "  <thead>\n",
       "    <tr style=\"text-align: right;\">\n",
       "      <th></th>\n",
       "      <th>Unnamed: 0</th>\n",
       "      <th>ID</th>\n",
       "      <th>ID_status</th>\n",
       "      <th>active</th>\n",
       "      <th>count_reassign</th>\n",
       "      <th>count_opening</th>\n",
       "      <th>count_updated</th>\n",
       "      <th>ID_caller</th>\n",
       "      <th>opened_by</th>\n",
       "      <th>opened_time</th>\n",
       "      <th>...</th>\n",
       "      <th>category_ID</th>\n",
       "      <th>user_symptom</th>\n",
       "      <th>Support_group</th>\n",
       "      <th>support_incharge</th>\n",
       "      <th>Doc_knowledge</th>\n",
       "      <th>confirmation_check</th>\n",
       "      <th>impact</th>\n",
       "      <th>notify</th>\n",
       "      <th>problem_ID</th>\n",
       "      <th>change_request</th>\n",
       "    </tr>\n",
       "  </thead>\n",
       "  <tbody>\n",
       "    <tr>\n",
       "      <th>0</th>\n",
       "      <td>1</td>\n",
       "      <td>INC0000045</td>\n",
       "      <td>New</td>\n",
       "      <td>True</td>\n",
       "      <td>0</td>\n",
       "      <td>0</td>\n",
       "      <td>0</td>\n",
       "      <td>Caller 2403</td>\n",
       "      <td>Opened by  8</td>\n",
       "      <td>29-02-2016 01:16</td>\n",
       "      <td>...</td>\n",
       "      <td>Category 55</td>\n",
       "      <td>Symptom 72</td>\n",
       "      <td>Group 56</td>\n",
       "      <td>?</td>\n",
       "      <td>True</td>\n",
       "      <td>False</td>\n",
       "      <td>2 - Medium</td>\n",
       "      <td>Do Not Notify</td>\n",
       "      <td>?</td>\n",
       "      <td>?</td>\n",
       "    </tr>\n",
       "    <tr>\n",
       "      <th>1</th>\n",
       "      <td>3</td>\n",
       "      <td>INC0000045</td>\n",
       "      <td>Resolved</td>\n",
       "      <td>True</td>\n",
       "      <td>0</td>\n",
       "      <td>0</td>\n",
       "      <td>3</td>\n",
       "      <td>Caller 2403</td>\n",
       "      <td>Opened by  8</td>\n",
       "      <td>29-02-2016 01:16</td>\n",
       "      <td>...</td>\n",
       "      <td>Category 55</td>\n",
       "      <td>Symptom 72</td>\n",
       "      <td>Group 56</td>\n",
       "      <td>?</td>\n",
       "      <td>True</td>\n",
       "      <td>False</td>\n",
       "      <td>2 - Medium</td>\n",
       "      <td>Do Not Notify</td>\n",
       "      <td>?</td>\n",
       "      <td>?</td>\n",
       "    </tr>\n",
       "    <tr>\n",
       "      <th>2</th>\n",
       "      <td>4</td>\n",
       "      <td>INC0000045</td>\n",
       "      <td>Closed</td>\n",
       "      <td>False</td>\n",
       "      <td>0</td>\n",
       "      <td>0</td>\n",
       "      <td>4</td>\n",
       "      <td>Caller 2403</td>\n",
       "      <td>Opened by  8</td>\n",
       "      <td>29-02-2016 01:16</td>\n",
       "      <td>...</td>\n",
       "      <td>Category 55</td>\n",
       "      <td>Symptom 72</td>\n",
       "      <td>Group 56</td>\n",
       "      <td>?</td>\n",
       "      <td>True</td>\n",
       "      <td>False</td>\n",
       "      <td>2 - Medium</td>\n",
       "      <td>Do Not Notify</td>\n",
       "      <td>?</td>\n",
       "      <td>?</td>\n",
       "    </tr>\n",
       "    <tr>\n",
       "      <th>3</th>\n",
       "      <td>6</td>\n",
       "      <td>INC0000047</td>\n",
       "      <td>Active</td>\n",
       "      <td>True</td>\n",
       "      <td>1</td>\n",
       "      <td>0</td>\n",
       "      <td>1</td>\n",
       "      <td>Caller 2403</td>\n",
       "      <td>Opened by  397</td>\n",
       "      <td>29-02-2016 04:40</td>\n",
       "      <td>...</td>\n",
       "      <td>Category 40</td>\n",
       "      <td>Symptom 471</td>\n",
       "      <td>Group 24</td>\n",
       "      <td>Resolver 31</td>\n",
       "      <td>True</td>\n",
       "      <td>False</td>\n",
       "      <td>2 - Medium</td>\n",
       "      <td>Do Not Notify</td>\n",
       "      <td>?</td>\n",
       "      <td>?</td>\n",
       "    </tr>\n",
       "    <tr>\n",
       "      <th>4</th>\n",
       "      <td>7</td>\n",
       "      <td>INC0000047</td>\n",
       "      <td>Active</td>\n",
       "      <td>True</td>\n",
       "      <td>1</td>\n",
       "      <td>0</td>\n",
       "      <td>2</td>\n",
       "      <td>Caller 2403</td>\n",
       "      <td>Opened by  397</td>\n",
       "      <td>29-02-2016 04:40</td>\n",
       "      <td>...</td>\n",
       "      <td>Category 40</td>\n",
       "      <td>Symptom 471</td>\n",
       "      <td>Group 24</td>\n",
       "      <td>Resolver 31</td>\n",
       "      <td>True</td>\n",
       "      <td>False</td>\n",
       "      <td>2 - Medium</td>\n",
       "      <td>Do Not Notify</td>\n",
       "      <td>?</td>\n",
       "      <td>?</td>\n",
       "    </tr>\n",
       "    <tr>\n",
       "      <th>5</th>\n",
       "      <td>9</td>\n",
       "      <td>INC0000047</td>\n",
       "      <td>Active</td>\n",
       "      <td>True</td>\n",
       "      <td>1</td>\n",
       "      <td>0</td>\n",
       "      <td>4</td>\n",
       "      <td>Caller 2403</td>\n",
       "      <td>Opened by  397</td>\n",
       "      <td>29-02-2016 04:40</td>\n",
       "      <td>...</td>\n",
       "      <td>Category 40</td>\n",
       "      <td>Symptom 471</td>\n",
       "      <td>Group 24</td>\n",
       "      <td>Resolver 31</td>\n",
       "      <td>True</td>\n",
       "      <td>False</td>\n",
       "      <td>2 - Medium</td>\n",
       "      <td>Do Not Notify</td>\n",
       "      <td>?</td>\n",
       "      <td>?</td>\n",
       "    </tr>\n",
       "    <tr>\n",
       "      <th>6</th>\n",
       "      <td>10</td>\n",
       "      <td>INC0000047</td>\n",
       "      <td>Active</td>\n",
       "      <td>True</td>\n",
       "      <td>1</td>\n",
       "      <td>0</td>\n",
       "      <td>5</td>\n",
       "      <td>Caller 2403</td>\n",
       "      <td>Opened by  397</td>\n",
       "      <td>29-02-2016 04:40</td>\n",
       "      <td>...</td>\n",
       "      <td>Category 40</td>\n",
       "      <td>Symptom 471</td>\n",
       "      <td>Group 24</td>\n",
       "      <td>Resolver 31</td>\n",
       "      <td>True</td>\n",
       "      <td>False</td>\n",
       "      <td>2 - Medium</td>\n",
       "      <td>Do Not Notify</td>\n",
       "      <td>?</td>\n",
       "      <td>?</td>\n",
       "    </tr>\n",
       "    <tr>\n",
       "      <th>7</th>\n",
       "      <td>11</td>\n",
       "      <td>INC0000047</td>\n",
       "      <td>Awaiting User Info</td>\n",
       "      <td>True</td>\n",
       "      <td>1</td>\n",
       "      <td>0</td>\n",
       "      <td>6</td>\n",
       "      <td>Caller 2403</td>\n",
       "      <td>Opened by  397</td>\n",
       "      <td>29-02-2016 04:40</td>\n",
       "      <td>...</td>\n",
       "      <td>Category 40</td>\n",
       "      <td>Symptom 471</td>\n",
       "      <td>Group 24</td>\n",
       "      <td>Resolver 89</td>\n",
       "      <td>True</td>\n",
       "      <td>False</td>\n",
       "      <td>2 - Medium</td>\n",
       "      <td>Do Not Notify</td>\n",
       "      <td>?</td>\n",
       "      <td>?</td>\n",
       "    </tr>\n",
       "    <tr>\n",
       "      <th>8</th>\n",
       "      <td>13</td>\n",
       "      <td>INC0000047</td>\n",
       "      <td>Closed</td>\n",
       "      <td>False</td>\n",
       "      <td>1</td>\n",
       "      <td>0</td>\n",
       "      <td>8</td>\n",
       "      <td>Caller 2403</td>\n",
       "      <td>Opened by  397</td>\n",
       "      <td>29-02-2016 04:40</td>\n",
       "      <td>...</td>\n",
       "      <td>Category 40</td>\n",
       "      <td>Symptom 471</td>\n",
       "      <td>Group 24</td>\n",
       "      <td>Resolver 89</td>\n",
       "      <td>True</td>\n",
       "      <td>False</td>\n",
       "      <td>2 - Medium</td>\n",
       "      <td>Do Not Notify</td>\n",
       "      <td>?</td>\n",
       "      <td>?</td>\n",
       "    </tr>\n",
       "    <tr>\n",
       "      <th>9</th>\n",
       "      <td>14</td>\n",
       "      <td>INC0000057</td>\n",
       "      <td>New</td>\n",
       "      <td>True</td>\n",
       "      <td>0</td>\n",
       "      <td>0</td>\n",
       "      <td>0</td>\n",
       "      <td>Caller 4416</td>\n",
       "      <td>Opened by  8</td>\n",
       "      <td>29-02-2016 06:10</td>\n",
       "      <td>...</td>\n",
       "      <td>Category 20</td>\n",
       "      <td>Symptom 471</td>\n",
       "      <td>Group 70</td>\n",
       "      <td>?</td>\n",
       "      <td>True</td>\n",
       "      <td>False</td>\n",
       "      <td>2 - Medium</td>\n",
       "      <td>Do Not Notify</td>\n",
       "      <td>?</td>\n",
       "      <td>?</td>\n",
       "    </tr>\n",
       "  </tbody>\n",
       "</table>\n",
       "<p>10 rows × 26 columns</p>\n",
       "</div>"
      ],
      "text/plain": [
       "   Unnamed: 0          ID           ID_status  active  count_reassign  \\\n",
       "0           1  INC0000045                 New    True               0   \n",
       "1           3  INC0000045            Resolved    True               0   \n",
       "2           4  INC0000045              Closed   False               0   \n",
       "3           6  INC0000047              Active    True               1   \n",
       "4           7  INC0000047              Active    True               1   \n",
       "5           9  INC0000047              Active    True               1   \n",
       "6          10  INC0000047              Active    True               1   \n",
       "7          11  INC0000047  Awaiting User Info    True               1   \n",
       "8          13  INC0000047              Closed   False               1   \n",
       "9          14  INC0000057                 New    True               0   \n",
       "\n",
       "   count_opening  count_updated    ID_caller       opened_by  \\\n",
       "0              0              0  Caller 2403    Opened by  8   \n",
       "1              0              3  Caller 2403    Opened by  8   \n",
       "2              0              4  Caller 2403    Opened by  8   \n",
       "3              0              1  Caller 2403  Opened by  397   \n",
       "4              0              2  Caller 2403  Opened by  397   \n",
       "5              0              4  Caller 2403  Opened by  397   \n",
       "6              0              5  Caller 2403  Opened by  397   \n",
       "7              0              6  Caller 2403  Opened by  397   \n",
       "8              0              8  Caller 2403  Opened by  397   \n",
       "9              0              0  Caller 4416    Opened by  8   \n",
       "\n",
       "        opened_time  ...  category_ID user_symptom Support_group  \\\n",
       "0  29-02-2016 01:16  ...  Category 55   Symptom 72      Group 56   \n",
       "1  29-02-2016 01:16  ...  Category 55   Symptom 72      Group 56   \n",
       "2  29-02-2016 01:16  ...  Category 55   Symptom 72      Group 56   \n",
       "3  29-02-2016 04:40  ...  Category 40  Symptom 471      Group 24   \n",
       "4  29-02-2016 04:40  ...  Category 40  Symptom 471      Group 24   \n",
       "5  29-02-2016 04:40  ...  Category 40  Symptom 471      Group 24   \n",
       "6  29-02-2016 04:40  ...  Category 40  Symptom 471      Group 24   \n",
       "7  29-02-2016 04:40  ...  Category 40  Symptom 471      Group 24   \n",
       "8  29-02-2016 04:40  ...  Category 40  Symptom 471      Group 24   \n",
       "9  29-02-2016 06:10  ...  Category 20  Symptom 471      Group 70   \n",
       "\n",
       "  support_incharge Doc_knowledge confirmation_check      impact  \\\n",
       "0                ?          True              False  2 - Medium   \n",
       "1                ?          True              False  2 - Medium   \n",
       "2                ?          True              False  2 - Medium   \n",
       "3      Resolver 31          True              False  2 - Medium   \n",
       "4      Resolver 31          True              False  2 - Medium   \n",
       "5      Resolver 31          True              False  2 - Medium   \n",
       "6      Resolver 31          True              False  2 - Medium   \n",
       "7      Resolver 89          True              False  2 - Medium   \n",
       "8      Resolver 89          True              False  2 - Medium   \n",
       "9                ?          True              False  2 - Medium   \n",
       "\n",
       "          notify problem_ID change_request  \n",
       "0  Do Not Notify          ?              ?  \n",
       "1  Do Not Notify          ?              ?  \n",
       "2  Do Not Notify          ?              ?  \n",
       "3  Do Not Notify          ?              ?  \n",
       "4  Do Not Notify          ?              ?  \n",
       "5  Do Not Notify          ?              ?  \n",
       "6  Do Not Notify          ?              ?  \n",
       "7  Do Not Notify          ?              ?  \n",
       "8  Do Not Notify          ?              ?  \n",
       "9  Do Not Notify          ?              ?  \n",
       "\n",
       "[10 rows x 26 columns]"
      ]
     },
     "execution_count": 2,
     "metadata": {},
     "output_type": "execute_result"
    }
   ],
   "source": [
    "train = pd.read_csv(\"E:\\\\Project\\\\incident\\\\train.csv\")\n",
    "test = pd.read_csv(\"E:\\\\Project\\\\incident\\\\test.csv\")\n",
    "\n",
    "train.head(10)"
   ]
  },
  {
   "cell_type": "code",
   "execution_count": 3,
   "metadata": {},
   "outputs": [
    {
     "data": {
      "text/plain": [
       "Unnamed: 0            0\n",
       "ID                    0\n",
       "ID_status             0\n",
       "active                0\n",
       "count_reassign        0\n",
       "count_opening         0\n",
       "count_updated         0\n",
       "ID_caller             0\n",
       "opened_by             0\n",
       "opened_time           0\n",
       "Created_by            0\n",
       "created_at            0\n",
       "updated_by            0\n",
       "updated_at            0\n",
       "type_contact          0\n",
       "location              0\n",
       "category_ID           0\n",
       "user_symptom          0\n",
       "Support_group         0\n",
       "support_incharge      0\n",
       "Doc_knowledge         0\n",
       "confirmation_check    0\n",
       "impact                0\n",
       "notify                0\n",
       "problem_ID            0\n",
       "change_request        0\n",
       "dtype: int64"
      ]
     },
     "execution_count": 3,
     "metadata": {},
     "output_type": "execute_result"
    }
   ],
   "source": [
    "train.isnull().sum()"
   ]
  },
  {
   "cell_type": "code",
   "execution_count": 4,
   "metadata": {},
   "outputs": [
    {
     "name": "stdout",
     "output_type": "stream",
     "text": [
      "<class 'pandas.core.frame.DataFrame'>\n",
      "RangeIndex: 99198 entries, 0 to 99197\n",
      "Data columns (total 26 columns):\n",
      "Unnamed: 0            99198 non-null int64\n",
      "ID                    99198 non-null object\n",
      "ID_status             99198 non-null object\n",
      "active                99198 non-null bool\n",
      "count_reassign        99198 non-null int64\n",
      "count_opening         99198 non-null int64\n",
      "count_updated         99198 non-null int64\n",
      "ID_caller             99198 non-null object\n",
      "opened_by             99198 non-null object\n",
      "opened_time           99198 non-null object\n",
      "Created_by            99198 non-null object\n",
      "created_at            99198 non-null object\n",
      "updated_by            99198 non-null object\n",
      "updated_at            99198 non-null object\n",
      "type_contact          99198 non-null object\n",
      "location              99198 non-null object\n",
      "category_ID           99198 non-null object\n",
      "user_symptom          99198 non-null object\n",
      "Support_group         99198 non-null object\n",
      "support_incharge      99198 non-null object\n",
      "Doc_knowledge         99198 non-null bool\n",
      "confirmation_check    99198 non-null bool\n",
      "impact                99198 non-null object\n",
      "notify                99198 non-null object\n",
      "problem_ID            99198 non-null object\n",
      "change_request        99198 non-null object\n",
      "dtypes: bool(3), int64(4), object(19)\n",
      "memory usage: 17.7+ MB\n"
     ]
    }
   ],
   "source": [
    "train.info()"
   ]
  },
  {
   "cell_type": "code",
   "execution_count": 5,
   "metadata": {},
   "outputs": [
    {
     "data": {
      "text/plain": [
       "Index(['Unnamed: 0', 'ID', 'ID_status', 'active', 'count_reassign',\n",
       "       'count_opening', 'count_updated', 'ID_caller', 'opened_by',\n",
       "       'opened_time', 'Created_by', 'created_at', 'updated_by', 'updated_at',\n",
       "       'type_contact', 'location', 'category_ID', 'user_symptom',\n",
       "       'Support_group', 'support_incharge', 'Doc_knowledge',\n",
       "       'confirmation_check', 'impact', 'notify', 'problem_ID',\n",
       "       'change_request'],\n",
       "      dtype='object')"
      ]
     },
     "execution_count": 5,
     "metadata": {},
     "output_type": "execute_result"
    }
   ],
   "source": [
    "train.columns"
   ]
  },
  {
   "cell_type": "code",
   "execution_count": 6,
   "metadata": {},
   "outputs": [],
   "source": [
    "#sns.pairplot(train, hue='impact') "
   ]
  },
  {
   "cell_type": "code",
   "execution_count": 7,
   "metadata": {},
   "outputs": [
    {
     "data": {
      "text/plain": [
       "Active                27075\n",
       "New                   25515\n",
       "Resolved              18158\n",
       "Closed                17387\n",
       "Awaiting User Info    10235\n",
       "Awaiting Vendor         493\n",
       "Awaiting Problem        307\n",
       "Awaiting Evidence        26\n",
       "-100                      2\n",
       "Name: ID_status, dtype: int64"
      ]
     },
     "execution_count": 7,
     "metadata": {},
     "output_type": "execute_result"
    },
    {
     "data": {
      "image/png": "[encoded data removed]",
      "text/plain": [
       "<Figure size 1008x360 with 1 Axes>"
      ]
     },
     "metadata": {
      "needs_background": "light"
     },
     "output_type": "display_data"
    }
   ],
   "source": [
    "plt.rcParams['figure.figsize'] = [14, 5]\n",
    "sns.countplot(x=\"ID_status\", data=train, palette=\"hls\")\n",
    "train['ID_status'].value_counts()"
   ]
  },
  {
   "cell_type": "code",
   "execution_count": 8,
   "metadata": {},
   "outputs": [
    {
     "data": {
      "text/plain": [
       "True     81810\n",
       "False    17388\n",
       "Name: active, dtype: int64"
      ]
     },
     "execution_count": 8,
     "metadata": {},
     "output_type": "execute_result"
    },
    {
     "data": {
      "image/png": "[encoded data removed]",
      "text/plain": [
       "<Figure size 1008x360 with 1 Axes>"
      ]
     },
     "metadata": {
      "needs_background": "light"
     },
     "output_type": "display_data"
    }
   ],
   "source": [
    "sns.countplot(x=\"active\", data=train, palette=\"hls\")\n",
    "train['active'].value_counts()"
   ]
  },
  {
   "cell_type": "code",
   "execution_count": 15,
   "metadata": {},
   "outputs": [
    {
     "data": {
      "text/plain": [
       "0    48853\n",
       "1    26027\n",
       "2    10503\n",
       "3     5777\n",
       "4     3244\n",
       "Name: count_reassign, dtype: int64"
      ]
     },
     "execution_count": 15,
     "metadata": {},
     "output_type": "execute_result"
    },
    {
     "data": {
      "image/png": "[encoded data removed]",
      "text/plain": [
       "<Figure size 1008x360 with 1 Axes>"
      ]
     },
     "metadata": {
      "needs_background": "light"
     },
     "output_type": "display_data"
    }
   ],
   "source": [
    "sns.countplot(x=\"count_reassign\", data=train, palette=\"hls\")\n",
    "train['count_reassign'].value_counts().head()        #taking first 10 for model building and remaing we replace as mode"
   ]
  },
  {
   "cell_type": "code",
   "execution_count": 10,
   "metadata": {},
   "outputs": [
    {
     "data": {
      "text/plain": [
       "0    97571\n",
       "1     1340\n",
       "2      134\n",
       "3       77\n",
       "4       41\n",
       "6       14\n",
       "5       13\n",
       "7        5\n",
       "8        3\n",
       "Name: count_opening, dtype: int64"
      ]
     },
     "execution_count": 10,
     "metadata": {},
     "output_type": "execute_result"
    },
    {
     "data": {
      "image/png": "[encoded data removed]",
      "text/plain": [
       "<Figure size 1008x360 with 1 Axes>"
      ]
     },
     "metadata": {
      "needs_background": "light"
     },
     "output_type": "display_data"
    }
   ],
   "source": [
    "sns.countplot(x=\"count_opening\", data=train, palette=\"hls\")\n",
    "train['count_opening'].value_counts()"
   ]
  },
  {
   "cell_type": "code",
   "execution_count": 11,
   "metadata": {},
   "outputs": [
    {
     "data": {
      "text/plain": [
       "0    17361\n",
       "1    15502\n",
       "2    13851\n",
       "3     9919\n",
       "4     7546\n",
       "Name: count_updated, dtype: int64"
      ]
     },
     "execution_count": 11,
     "metadata": {},
     "output_type": "execute_result"
    }
   ],
   "source": [
    "train['count_updated'].value_counts().head()"
   ]
  },
  {
   "cell_type": "code",
   "execution_count": 12,
   "metadata": {},
   "outputs": [
    {
     "data": {
      "text/plain": [
       "Caller 1904    1001\n",
       "Caller 290      552\n",
       "Caller 4514     496\n",
       "Caller 1441     218\n",
       "Caller 298      203\n",
       "Name: ID_caller, dtype: int64"
      ]
     },
     "execution_count": 12,
     "metadata": {},
     "output_type": "execute_result"
    }
   ],
   "source": [
    "train['ID_caller'].value_counts().head()"
   ]
  },
  {
   "cell_type": "code",
   "execution_count": 13,
   "metadata": {},
   "outputs": [
    {
     "data": {
      "text/plain": [
       "Opened by  17     29027\n",
       "Opened by  24      5658\n",
       "Opened by  131     5113\n",
       "Opened by  108     4234\n",
       "Opened by  55      3917\n",
       "Name: opened_by, dtype: int64"
      ]
     },
     "execution_count": 13,
     "metadata": {},
     "output_type": "execute_result"
    }
   ],
   "source": [
    "train['opened_by'].value_counts().head()"
   ]
  },
  {
   "cell_type": "code",
   "execution_count": 16,
   "metadata": {},
   "outputs": [
    {
     "data": {
      "text/plain": [
       "07-03-2016 11:04    43\n",
       "14-04-2016 20:42    41\n",
       "04-07-2016 14:38    41\n",
       "07-03-2016 09:25    39\n",
       "07-03-2016 09:11    38\n",
       "Name: opened_time, dtype: int64"
      ]
     },
     "execution_count": 16,
     "metadata": {},
     "output_type": "execute_result"
    }
   ],
   "source": [
    "train['opened_time'].value_counts().head()\n",
    "#train.opened_time.head(6)"
   ]
  },
  {
   "cell_type": "code",
   "execution_count": 17,
   "metadata": {},
   "outputs": [
    {
     "data": {
      "text/plain": [
       "?                37174\n",
       "Created by 10    16968\n",
       "Created by 13     3146\n",
       "Created by 62     2790\n",
       "Created by 52     2457\n",
       "Name: Created_by, dtype: int64"
      ]
     },
     "execution_count": 17,
     "metadata": {},
     "output_type": "execute_result"
    }
   ],
   "source": [
    "train['Created_by'].value_counts().head()\n",
    "#train.Created_by.head(10)"
   ]
  },
  {
   "cell_type": "code",
   "execution_count": 18,
   "metadata": {},
   "outputs": [
    {
     "data": {
      "text/plain": [
       "?                   37174\n",
       "04-07-2016 14:50       41\n",
       "15-03-2016 15:19       38\n",
       "19-04-2016 11:32       36\n",
       "30-03-2016 08:23       33\n",
       "Name: created_at, dtype: int64"
      ]
     },
     "execution_count": 18,
     "metadata": {},
     "output_type": "execute_result"
    }
   ],
   "source": [
    "train['created_at'].value_counts().head()"
   ]
  },
  {
   "cell_type": "code",
   "execution_count": 19,
   "metadata": {},
   "outputs": [
    {
     "data": {
      "text/plain": [
       "Updated by 908    25190\n",
       "Updated by 44      8845\n",
       "Updated by 60      4951\n",
       "Updated by 429     2918\n",
       "Updated by 859     1760\n",
       "Name: updated_by, dtype: int64"
      ]
     },
     "execution_count": 19,
     "metadata": {},
     "output_type": "execute_result"
    }
   ],
   "source": [
    "#'updated_by', 'updated_at'\n",
    "train['updated_by'].value_counts().head()"
   ]
  },
  {
   "cell_type": "code",
   "execution_count": 20,
   "metadata": {},
   "outputs": [
    {
     "data": {
      "text/plain": [
       "24-03-2016 18:40    297\n",
       "24-03-2016 18:51    282\n",
       "24-03-2016 18:41    279\n",
       "24-03-2016 19:00    278\n",
       "24-03-2016 19:01    272\n",
       "Name: updated_at, dtype: int64"
      ]
     },
     "execution_count": 20,
     "metadata": {},
     "output_type": "execute_result"
    }
   ],
   "source": [
    "train['updated_at'].value_counts().head()"
   ]
  },
  {
   "cell_type": "code",
   "execution_count": 21,
   "metadata": {},
   "outputs": [
    {
     "data": {
      "text/plain": [
       "Phone             98306\n",
       "Self service        714\n",
       "Email               153\n",
       "Direct opening       14\n",
       "IVR                  11\n",
       "Name: type_contact, dtype: int64"
      ]
     },
     "execution_count": 21,
     "metadata": {},
     "output_type": "execute_result"
    },
    {
     "data": {
      "image/png": "[encoded data removed]",
      "text/plain": [
       "<Figure size 1008x360 with 1 Axes>"
      ]
     },
     "metadata": {
      "needs_background": "light"
     },
     "output_type": "display_data"
    }
   ],
   "source": [
    "##Categorical attribute that shows by what means the incident was reported\n",
    "sns.countplot(x=\"type_contact\", data=train, palette=\"hls\")  \n",
    "train['type_contact'].value_counts()\n",
    "#train.type_contact.head(6)"
   ]
  },
  {
   "cell_type": "code",
   "execution_count": 22,
   "metadata": {},
   "outputs": [
    {
     "data": {
      "text/plain": [
       "Location 204    22295\n",
       "Location 161    15867\n",
       "Location 143    13463\n",
       "Location 108     8870\n",
       "Location 93      7980\n",
       "Name: location, dtype: int64"
      ]
     },
     "execution_count": 22,
     "metadata": {},
     "output_type": "execute_result"
    }
   ],
   "source": [
    "#'location', 'category_ID'\n",
    "train['location'].value_counts().head()"
   ]
  },
  {
   "cell_type": "code",
   "execution_count": 23,
   "metadata": {},
   "outputs": [
    {
     "data": {
      "text/plain": [
       "Category 26    12937\n",
       "Category 53    11282\n",
       "Category 42    11130\n",
       "Category 46     9268\n",
       "Category 23     5505\n",
       "Name: category_ID, dtype: int64"
      ]
     },
     "execution_count": 23,
     "metadata": {},
     "output_type": "execute_result"
    }
   ],
   "source": [
    "train['category_ID'].value_counts().head(5)\n",
    "#type(cat)\n",
    "#cat = pd.DataFrame(cat)\n",
    "#cat.info()"
   ]
  },
  {
   "cell_type": "code",
   "execution_count": 24,
   "metadata": {},
   "outputs": [
    {
     "data": {
      "text/plain": [
       "Symptom 491    36496\n",
       "?              23139\n",
       "Symptom 534     3852\n",
       "Symptom 387     1809\n",
       "Symptom 4       1794\n",
       "Symptom 116     1648\n",
       "Symptom 532     1460\n",
       "Name: user_symptom, dtype: int64"
      ]
     },
     "execution_count": 24,
     "metadata": {},
     "output_type": "execute_result"
    }
   ],
   "source": [
    "#sns.countplot(x=\"location\", data=train, palette=\"hls\")  \n",
    "train['user_symptom'].value_counts().head(7)"
   ]
  },
  {
   "cell_type": "code",
   "execution_count": 25,
   "metadata": {},
   "outputs": [
    {
     "data": {
      "text/plain": [
       "Group 70    30357\n",
       "?            9994\n",
       "Group 25     5421\n",
       "Group 24     4717\n",
       "Group 20     4293\n",
       "Name: Support_group, dtype: int64"
      ]
     },
     "execution_count": 25,
     "metadata": {},
     "output_type": "execute_result"
    }
   ],
   "source": [
    "#sns.countplot(x=\"location\", data=train, palette=\"hls\")  \n",
    "train['Support_group'].value_counts().head()"
   ]
  },
  {
   "cell_type": "code",
   "execution_count": 26,
   "metadata": {},
   "outputs": [
    {
     "data": {
      "text/plain": [
       "?               19302\n",
       "Resolver 17      7511\n",
       "Resolver 13      6135\n",
       "Resolver 194     2492\n",
       "Resolver 57      2196\n",
       "Name: support_incharge, dtype: int64"
      ]
     },
     "execution_count": 26,
     "metadata": {},
     "output_type": "execute_result"
    }
   ],
   "source": [
    "#sns.countplot(x=\"location\", data=train, palette=\"hls\")  \n",
    "train['support_incharge'].value_counts().head()"
   ]
  },
  {
   "cell_type": "code",
   "execution_count": 27,
   "metadata": {},
   "outputs": [
    {
     "data": {
      "text/plain": [
       "False    81382\n",
       "True     17816\n",
       "Name: Doc_knowledge, dtype: int64"
      ]
     },
     "execution_count": 27,
     "metadata": {},
     "output_type": "execute_result"
    },
    {
     "data": {
      "image/png": "[encoded data removed]",
      "text/plain": [
       "<Figure size 1008x360 with 1 Axes>"
      ]
     },
     "metadata": {
      "needs_background": "light"
     },
     "output_type": "display_data"
    }
   ],
   "source": [
    "#Boolean attribute that shows whether a knowledge base document was used to resolve the incident\n",
    "sns.countplot(x=\"Doc_knowledge\", data=train, palette=\"hls\")  \n",
    "train['Doc_knowledge'].value_counts()"
   ]
  },
  {
   "cell_type": "code",
   "execution_count": 28,
   "metadata": {},
   "outputs": [
    {
     "data": {
      "text/plain": [
       "False    70526\n",
       "True     28672\n",
       "Name: confirmation_check, dtype: int64"
      ]
     },
     "execution_count": 28,
     "metadata": {},
     "output_type": "execute_result"
    },
    {
     "data": {
      "image/png": "[encoded data removed]",
      "text/plain": [
       "<Figure size 1008x360 with 1 Axes>"
      ]
     },
     "metadata": {
      "needs_background": "light"
     },
     "output_type": "display_data"
    }
   ],
   "source": [
    "#Boolean attribute that shows whether the priority field has been double-checked\n",
    "sns.countplot(x=\"confirmation_check\", data=train, palette=\"hls\")  \n",
    "train['confirmation_check'].value_counts()"
   ]
  },
  {
   "cell_type": "code",
   "execution_count": 29,
   "metadata": {},
   "outputs": [
    {
     "data": {
      "text/plain": [
       "Do Not Notify    99113\n",
       "Send Email          85\n",
       "Name: notify, dtype: int64"
      ]
     },
     "execution_count": 29,
     "metadata": {},
     "output_type": "execute_result"
    },
    {
     "data": {
      "image/png": "[encoded data removed]",
      "text/plain": [
       "<Figure size 1008x360 with 1 Axes>"
      ]
     },
     "metadata": {
      "needs_background": "light"
     },
     "output_type": "display_data"
    }
   ],
   "source": [
    "sns.countplot(x=\"notify\", data=train, palette=\"hls\")  \n",
    "train['notify'].value_counts()"
   ]
  },
  {
   "cell_type": "code",
   "execution_count": 30,
   "metadata": {},
   "outputs": [
    {
     "data": {
      "text/plain": [
       "?                  97620\n",
       "Problem ID  14       114\n",
       "Problem ID  2        112\n",
       "Problem ID  52        55\n",
       "Problem ID  239       35\n",
       "Name: problem_ID, dtype: int64"
      ]
     },
     "execution_count": 30,
     "metadata": {},
     "output_type": "execute_result"
    }
   ],
   "source": [
    "train['problem_ID'].value_counts().head()"
   ]
  },
  {
   "cell_type": "code",
   "execution_count": 31,
   "metadata": {},
   "outputs": [
    {
     "data": {
      "text/plain": [
       "2 - Medium    94034\n",
       "3 - Low        2720\n",
       "1 - High       2444\n",
       "Name: impact, dtype: int64"
      ]
     },
     "execution_count": 31,
     "metadata": {},
     "output_type": "execute_result"
    },
    {
     "data": {
      "image/png": "[encoded data removed]",
      "text/plain": [
       "<Figure size 1008x360 with 1 Axes>"
      ]
     },
     "metadata": {
      "needs_background": "light"
     },
     "output_type": "display_data"
    }
   ],
   "source": [
    "#Description of the impact caused by the incident (values: 1â€“High; 2â€“Medium; 3â€“Low)\n",
    "sns.countplot(x=\"impact\", data=train, palette=\"hls\")  \n",
    "train['impact'].value_counts()"
   ]
  },
  {
   "cell_type": "code",
   "execution_count": 32,
   "metadata": {},
   "outputs": [
    {
     "data": {
      "text/plain": [
       "?             98512\n",
       "CHG0001230       15\n",
       "CHG0000132       13\n",
       "CHG0000342       12\n",
       "CHG0000047       12\n",
       "Name: change_request, dtype: int64"
      ]
     },
     "execution_count": 32,
     "metadata": {},
     "output_type": "execute_result"
    }
   ],
   "source": [
    "#identifier of the change request associated with the incident\n",
    "train['change_request'].value_counts().head()"
   ]
  },
  {
   "cell_type": "markdown",
   "metadata": {},
   "source": [
    "# Cleaning "
   ]
  },
  {
   "cell_type": "code",
   "execution_count": 33,
   "metadata": {},
   "outputs": [
    {
     "data": {
      "text/plain": [
       "Index(['Unnamed: 0', 'ID', 'ID_status', 'active', 'count_reassign',\n",
       "       'count_opening', 'count_updated', 'ID_caller', 'opened_by',\n",
       "       'opened_time', 'Created_by', 'created_at', 'updated_by', 'updated_at',\n",
       "       'type_contact', 'location', 'category_ID', 'user_symptom',\n",
       "       'Support_group', 'support_incharge', 'Doc_knowledge',\n",
       "       'confirmation_check', 'impact', 'notify', 'problem_ID',\n",
       "       'change_request'],\n",
       "      dtype='object')"
      ]
     },
     "execution_count": 33,
     "metadata": {},
     "output_type": "execute_result"
    }
   ],
   "source": [
    "train.columns"
   ]
  },
  {
   "cell_type": "markdown",
   "metadata": {},
   "source": [
    "## Deleting columns : 'Unnamed: 0', 'ID' , 'problem_ID'"
   ]
  },
  {
   "cell_type": "code",
   "execution_count": null,
   "metadata": {},
   "outputs": [],
   "source": []
  }
 ],
 "metadata": {
  "kernelspec": {
   "display_name": "Python 3",
   "language": "python",
   "name": "python3"
  },
  "language_info": {
   "codemirror_mode": {
    "name": "ipython",
    "version": 3
   },
   "file_extension": ".py",
   "mimetype": "text/x-python",
   "name": "python",
   "nbconvert_exporter": "python",
   "pygments_lexer": "ipython3",
   "version": "3.7.3"
  }
 },
 "nbformat": 4,
 "nbformat_minor": 2
}
